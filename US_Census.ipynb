{
  "nbformat": 4,
  "nbformat_minor": 0,
  "metadata": {
    "colab": {
      "name": "US Census.ipynb",
      "provenance": [],
      "collapsed_sections": [
        "Cvq-SgnmYkbN",
        "P5L7rDOPTUr8",
        "TlKpvydETNAZ",
        "5ZorJZDVYp-r"
      ],
      "toc_visible": true,
      "machine_shape": "hm",
      "authorship_tag": "ABX9TyMqy5vOirhF2GRbaxGnROcq",
      "include_colab_link": true
    },
    "kernelspec": {
      "name": "python3",
      "display_name": "Python 3"
    },
    "accelerator": "GPU"
  },
  "cells": [
    {
      "cell_type": "markdown",
      "metadata": {
        "id": "view-in-github",
        "colab_type": "text"
      },
      "source": [
        "<a href=\"https://colab.research.google.com/github/btrentini/data_science/blob/master/US_Census.ipynb\" target=\"_parent\"><img src=\"https://colab.research.google.com/assets/colab-badge.svg\" alt=\"Open In Colab\"/></a>"
      ]
    },
    {
      "cell_type": "markdown",
      "metadata": {
        "id": "81CfsK3CSLmL",
        "colab_type": "text"
      },
      "source": [
        "#US Census \n",
        "\n",
        "⚠ **Run notebook:** In the menu above click \"Runtime > Run all\" or press $CTRL + F9$   \n",
        "\n",
        "Heads up: it will take a while to run everything!"
      ]
    },
    {
      "cell_type": "markdown",
      "metadata": {
        "id": "t885lixZdVUS",
        "colab_type": "text"
      },
      "source": [
        "## Task Summary\n",
        "\n",
        "In summary, this is what this notebook does:\n",
        "\n",
        "- Extracts and Prepares dataset from http://thomasdata.s3.amazonaws.com/ds/us_census_full.zip\n",
        "- EDA and Feature Engineering\n",
        "- Learns, for a dataset formed by vectors $\\{x_n\\}_{n=0}^N$, N the number of training examples, a model for the label $y_n$.  \n",
        "- Predicts, given an a vector $x_n=\\{x_n^0, x_n^1, ..., x_n^k\\}$, $k$ the number of features, and the model learnt, if target variable, $y$ (salary), is greater than or equal to \\$50,000 per year, yielding a prediction $\\hat{y_n}$ for each training example $x_n$.\n",
        "- Test different models and validate on test set the cross-entropy loss $L = - \\sum_n y_n \\, \\,log \\, \\hat{y_n} + (1- y_n)log(1-\\hat{y_n})$ that yields the lowerst error for the pair $(y, \\hat{y})$ \n",
        "\n"
      ]
    },
    {
      "cell_type": "markdown",
      "metadata": {
        "id": "_oNlPo0Xdc9w",
        "colab_type": "text"
      },
      "source": [
        "## Task Info\n",
        "\n",
        "The following link lets you download an archive containing an “exercise” US Census dataset: http://thomasdata.s3.amazonaws.com/ds/us_census_full.zip\n",
        "This US Census dataset contains detailed but anonymized information for approximately 300,000 people.\n",
        "\n",
        ">The archive contains 3 files: \n",
        "* A large training file (csv)\n",
        "* Another test file (csv)\n",
        "* A metadata file (txt) describing the columns of the two csv files (identical for both)\n",
        "\n",
        "> **The goal** of this exercise is to model the information contained in the last column (42nd), i.e., whether a person makes more or less than $50,000 per year, from the information contained in the other columns. The exercise here consists of modeling a binary variable.\n",
        "\n",
        "> Work with Python (or R) to carry out the following steps:\n",
        "*  Load the train and test files.\n",
        "* Perform an exploratory analysis on the data and create some relevant visualisations.\n",
        "* Clean, preprocess, and engineer features in the training data, with the aim of building a data set that a model will perform well on.\n",
        "* Create a model using these features to predict whether a person earns more or less than $50,000 per year. Here, the idea is for you to test a few different models, and see whether there are any techniques you can apply to improve performance over your first results.\n",
        "* Choose the model that appears to have the highest performance based on a comparison between reality (the 42nd variable) and the model’s prediction. \n",
        "* Apply your model to the test file and measure its real performance on it (same method as above).\n",
        "\n",
        ">The goal of this exercise is not to create the best or the purest model, but rather to describe the steps you took to accomplish it.\n",
        "Explain areas that may have been the most challenging for you.\n",
        ">Find clear insights on the profiles of the people that make more than $50,000 / year. For example, which variables seem to be the most correlated with this phenomenon?\n",
        ">Finally, you push your code on GitHub to share it with me, or send it via email.\n",
        "\n",
        ">Once again, the goal of this exercise is not to solve this problem, but rather to spend a few hours on it and to thoroughly explain your approach."
      ]
    },
    {
      "cell_type": "markdown",
      "metadata": {
        "id": "G2mD8YwKdgTW",
        "colab_type": "text"
      },
      "source": [
        "## Metadata Info\n",
        "\n",
        "**From the metadata (see below how this was obtained):**\n",
        "\n",
        "\n",
        "> This data was extracted from the census bureau database found at\n",
        ">http://www.census.gov/ftp/pub/DES/www/welcome.html\n",
        "\n",
        ">Donor: Terran Lane and Ronny Kohavi\n",
        "       Data Mining and Visualization\n",
        "       Silicon Graphics.\n",
        "       e-mail: terran@ecn.purdue.edu, ronnyk@sgi.com for questions.\n",
        "\n",
        "\n",
        ">The data was split into train/test in approximately $2/3$, $1/3$ proportions using MineSet's MIndUtil mineset-to-mlc.\n",
        "\n",
        ">**Prediction task** is to determine the income level for the person represented by the record.  Incomes have been binned at the $50K level to present a binary classification problem, much like the original UCI/ADULT database.  The goal field of this data, however, was drawn from the \"total person income\" field rather than the \"adjusted gross income\" and may, therefore, behave differently than the orginal ADULT goal field.\n",
        ">More information detailing the meaning of the attributes can be found in http://www.bls.census.gov/cps/cpsmain.htm"
      ]
    },
    {
      "cell_type": "markdown",
      "metadata": {
        "id": "_OBKRcB2nsAy",
        "colab_type": "text"
      },
      "source": [
        "# Setup"
      ]
    },
    {
      "cell_type": "markdown",
      "metadata": {
        "id": "TWzMU7dj5UIT",
        "colab_type": "text"
      },
      "source": [
        "## Check GPU configs"
      ]
    },
    {
      "cell_type": "code",
      "metadata": {
        "id": "v7LH86If5PJo",
        "colab_type": "code",
        "colab": {
          "base_uri": "https://localhost:8080/",
          "height": 342
        },
        "outputId": "e22beb54-2261-4a00-81b4-dafa438bbe82"
      },
      "source": [
        "!nvidia-smi"
      ],
      "execution_count": 1,
      "outputs": [
        {
          "output_type": "stream",
          "text": [
            "Fri Sep 25 13:08:25 2020       \n",
            "+-----------------------------------------------------------------------------+\n",
            "| NVIDIA-SMI 450.66       Driver Version: 418.67       CUDA Version: 10.1     |\n",
            "|-------------------------------+----------------------+----------------------+\n",
            "| GPU  Name        Persistence-M| Bus-Id        Disp.A | Volatile Uncorr. ECC |\n",
            "| Fan  Temp  Perf  Pwr:Usage/Cap|         Memory-Usage | GPU-Util  Compute M. |\n",
            "|                               |                      |               MIG M. |\n",
            "|===============================+======================+======================|\n",
            "|   0  Tesla V100-SXM2...  Off  | 00000000:00:04.0 Off |                    0 |\n",
            "| N/A   32C    P0    23W / 300W |      0MiB / 16130MiB |      0%      Default |\n",
            "|                               |                      |                 ERR! |\n",
            "+-------------------------------+----------------------+----------------------+\n",
            "                                                                               \n",
            "+-----------------------------------------------------------------------------+\n",
            "| Processes:                                                                  |\n",
            "|  GPU   GI   CI        PID   Type   Process name                  GPU Memory |\n",
            "|        ID   ID                                                   Usage      |\n",
            "|=============================================================================|\n",
            "|  No running processes found                                                 |\n",
            "+-----------------------------------------------------------------------------+\n"
          ],
          "name": "stdout"
        }
      ]
    },
    {
      "cell_type": "code",
      "metadata": {
        "id": "IzfveUw-5RfS",
        "colab_type": "code",
        "colab": {
          "base_uri": "https://localhost:8080/",
          "height": 82
        },
        "outputId": "9308f0ff-734d-4861-9b3e-2c15cc92360e"
      },
      "source": [
        "!nvcc --version"
      ],
      "execution_count": 2,
      "outputs": [
        {
          "output_type": "stream",
          "text": [
            "nvcc: NVIDIA (R) Cuda compiler driver\n",
            "Copyright (c) 2005-2019 NVIDIA Corporation\n",
            "Built on Sun_Jul_28_19:07:16_PDT_2019\n",
            "Cuda compilation tools, release 10.1, V10.1.243\n"
          ],
          "name": "stdout"
        }
      ]
    },
    {
      "cell_type": "code",
      "metadata": {
        "id": "XVW8D1DcT8n3",
        "colab_type": "code",
        "colab": {
          "base_uri": "https://localhost:8080/",
          "height": 183
        },
        "outputId": "89aed644-ea36-4566-be85-83997f923e6b"
      },
      "source": [
        "!pip install wget"
      ],
      "execution_count": 3,
      "outputs": [
        {
          "output_type": "stream",
          "text": [
            "Collecting wget\n",
            "  Downloading https://files.pythonhosted.org/packages/47/6a/62e288da7bcda82b935ff0c6cfe542970f04e29c756b0e147251b2fb251f/wget-3.2.zip\n",
            "Building wheels for collected packages: wget\n",
            "  Building wheel for wget (setup.py) ... \u001b[?25l\u001b[?25hdone\n",
            "  Created wheel for wget: filename=wget-3.2-cp36-none-any.whl size=9682 sha256=b182c7b60452c04d88ef81c46f3929c7889d58ce8c5d2495302f91fd38e9ea68\n",
            "  Stored in directory: /root/.cache/pip/wheels/40/15/30/7d8f7cea2902b4db79e3fea550d7d7b85ecb27ef992b618f3f\n",
            "Successfully built wget\n",
            "Installing collected packages: wget\n",
            "Successfully installed wget-3.2\n"
          ],
          "name": "stdout"
        }
      ]
    },
    {
      "cell_type": "markdown",
      "metadata": {
        "id": "6fuuDAjt5b8Q",
        "colab_type": "text"
      },
      "source": [
        "## Imports"
      ]
    },
    {
      "cell_type": "code",
      "metadata": {
        "id": "5Ln5s1-7OVfj",
        "colab_type": "code",
        "colab": {
          "base_uri": "https://localhost:8080/",
          "height": 70
        },
        "outputId": "1ebf0815-7a83-4661-b1c2-8cb4e4d574bf"
      },
      "source": [
        "# System utils\n",
        "import sys\n",
        "import os\n",
        "import zipfile\n",
        "import time\n",
        "\n",
        "# Parallelism\n",
        "from joblib import Parallel, delayed\n",
        "\n",
        "# Some classic data science stuff\n",
        "import numpy as np; \n",
        "import pandas as pd\n",
        "import seaborn as sns\n",
        "import matplotlib as mpl\n",
        "import matplotlib.pyplot as plt \n",
        "from mpl_toolkits.axes_grid1.inset_locator import inset_axes\n",
        "%matplotlib inline \n",
        "\n",
        "# Math & Stats\n",
        "import math \n",
        "import scipy.stats as stats\n",
        "from sklearn.preprocessing import Normalizer\n",
        "from sklearn.preprocessing import MinMaxScaler \n",
        "from statsmodels.tools.tools import add_constant\n",
        "from statsmodels.stats.outliers_influence import variance_inflation_factor  \n",
        "\n",
        "# Machine Learning libs\n",
        "from sklearn.svm import SVC \n",
        "from lightgbm import LGBMClassifier\n",
        "from xgboost import XGBClassifier, plot_importance, plot_tree\n",
        "\n",
        "# Scikit learn utils\n",
        "from sklearn.metrics import accuracy_score\n",
        "from sklearn.metrics import mean_squared_error\n",
        "from sklearn.model_selection import GridSearchCV \n",
        "from sklearn.model_selection import train_test_split\n",
        "from sklearn.metrics import confusion_matrix, classification_report\n"
      ],
      "execution_count": 4,
      "outputs": [
        {
          "output_type": "stream",
          "text": [
            "/usr/local/lib/python3.6/dist-packages/statsmodels/tools/_testing.py:19: FutureWarning: pandas.util.testing is deprecated. Use the functions in the public API at pandas.testing instead.\n",
            "  import pandas.util.testing as tm\n"
          ],
          "name": "stderr"
        }
      ]
    },
    {
      "cell_type": "code",
      "metadata": {
        "id": "rNbDzwPuTelT",
        "colab_type": "code",
        "colab": {}
      },
      "source": [
        "# Styling\n",
        "sns.set_style(\"ticks\", {\"xtick.major.size\": 11, \"ytick.major.size\": 11})\n",
        "sns.set_palette(\"inferno\")\n",
        "sns.set(font_scale = 2)\n",
        "figsize=(23, 15)\n",
        "pal='inferno'\n",
        "div = \"=\"*72"
      ],
      "execution_count": 5,
      "outputs": []
    },
    {
      "cell_type": "markdown",
      "metadata": {
        "id": "9Hq-GXmVSwF7",
        "colab_type": "text"
      },
      "source": [
        "# Build datasets"
      ]
    },
    {
      "cell_type": "markdown",
      "metadata": {
        "id": "GPQJnPZGeQ8e",
        "colab_type": "text"
      },
      "source": [
        "## Download & Extract"
      ]
    },
    {
      "cell_type": "code",
      "metadata": {
        "id": "hX-F4BJ7S6XX",
        "colab_type": "code",
        "colab": {
          "base_uri": "https://localhost:8080/",
          "height": 196
        },
        "outputId": "6d1574d0-cd4c-4ef7-ff8d-3c2c056a5131"
      },
      "source": [
        "!wget \"http://thomasdata.s3.amazonaws.com/ds/us_census_full.zip\""
      ],
      "execution_count": 6,
      "outputs": [
        {
          "output_type": "stream",
          "text": [
            "--2020-09-25 13:08:32--  http://thomasdata.s3.amazonaws.com/ds/us_census_full.zip\n",
            "Resolving thomasdata.s3.amazonaws.com (thomasdata.s3.amazonaws.com)... 52.216.128.35\n",
            "Connecting to thomasdata.s3.amazonaws.com (thomasdata.s3.amazonaws.com)|52.216.128.35|:80... connected.\n",
            "HTTP request sent, awaiting response... 200 OK\n",
            "Length: 9801875 (9.3M) [application/zip]\n",
            "Saving to: ‘us_census_full.zip’\n",
            "\n",
            "us_census_full.zip  100%[===================>]   9.35M  12.0MB/s    in 0.8s    \n",
            "\n",
            "2020-09-25 13:08:33 (12.0 MB/s) - ‘us_census_full.zip’ saved [9801875/9801875]\n",
            "\n"
          ],
          "name": "stdout"
        }
      ]
    },
    {
      "cell_type": "code",
      "metadata": {
        "id": "JV2CYp6XdZoX",
        "colab_type": "code",
        "colab": {
          "base_uri": "https://localhost:8080/",
          "height": 50
        },
        "outputId": "f53e0a2d-5b30-41e8-d4c6-3a6a4b19e5f9"
      },
      "source": [
        "!ls -1"
      ],
      "execution_count": 7,
      "outputs": [
        {
          "output_type": "stream",
          "text": [
            "sample_data\n",
            "us_census_full.zip\n"
          ],
          "name": "stdout"
        }
      ]
    },
    {
      "cell_type": "code",
      "metadata": {
        "id": "PsmLt9msRGhL",
        "colab_type": "code",
        "colab": {}
      },
      "source": [
        "# Define helper to load\n",
        "local_zip =os.path.join('/content', 'us_census_full.zip')\n",
        "\n",
        "# Unzip Train Set into temporary path\n",
        "zip_ref = zipfile.ZipFile(local_zip, 'r')\n",
        "zip_ref.extractall('/tmp')\n",
        "zip_ref.close()"
      ],
      "execution_count": 8,
      "outputs": []
    },
    {
      "cell_type": "code",
      "metadata": {
        "id": "WZbPCGafRVYh",
        "colab_type": "code",
        "colab": {
          "base_uri": "https://localhost:8080/",
          "height": 50
        },
        "outputId": "4ad15689-3258-46bc-e484-ff336be3c225"
      },
      "source": [
        "!ls -1 /tmp"
      ],
      "execution_count": 9,
      "outputs": [
        {
          "output_type": "stream",
          "text": [
            "__MACOSX\n",
            "us_census_full\n"
          ],
          "name": "stdout"
        }
      ]
    },
    {
      "cell_type": "code",
      "metadata": {
        "id": "3h1tILn2RlvU",
        "colab_type": "code",
        "colab": {}
      },
      "source": [
        "train     = '/tmp/us_census_full/census_income_learn.csv'\n",
        "test      = '/tmp/us_census_full/census_income_test.csv'\n",
        "metadata  = '/tmp/us_census_full/census_income_metadata.txt'"
      ],
      "execution_count": 10,
      "outputs": []
    },
    {
      "cell_type": "code",
      "metadata": {
        "id": "JHoJp1ItR9gw",
        "colab_type": "code",
        "colab": {
          "base_uri": "https://localhost:8080/",
          "height": 1000
        },
        "outputId": "e2135244-0a41-4d47-9064-90a7abd03e95"
      },
      "source": [
        "# Let's see what's in the metadata\n",
        "!fold -w 130 -s $metadata"
      ],
      "execution_count": 11,
      "outputs": [
        {
          "output_type": "stream",
          "text": [
            "| This data was extracted from the census bureau database found at\n",
            "| http://www.census.gov/ftp/pub/DES/www/welcome.html\n",
            "| Donor: Terran Lane and Ronny Kohavi\n",
            "|        Data Mining and Visualization\n",
            "|        Silicon Graphics.\n",
            "|        e-mail: terran@ecn.purdue.edu, ronnyk@sgi.com for questions.\n",
            "|\n",
            "| The data was split into train/test in approximately 2/3, 1/3\n",
            "| proportions using MineSet's MIndUtil mineset-to-mlc.\n",
            "|\n",
            "| Prediction task is to determine the income level for the person\n",
            "| represented by the record.  Incomes have been binned at the $50K\n",
            "| level to present a binary classification problem, much like the\n",
            "| original UCI/ADULT database.  The goal field of this data, however,\n",
            "| was drawn from the \"total person income\" field rather than the\n",
            "| \"adjusted gross income\" and may, therefore, behave differently than the\n",
            "| orginal ADULT goal field.\n",
            "|\n",
            "| More information detailing the meaning of the attributes can be\n",
            "| found in http://www.bls.census.gov/cps/cpsmain.htm\n",
            "| To make use of the data descriptions at this site, the following mappings\n",
            "| to the Census Bureau's internal database column names will be needed:\n",
            "|\n",
            "| age\t\t\t\t\t\tAAGE\n",
            "| class of worker\t\t\t\tACLSWKR\n",
            "| industry code\t\t\t\t\tADTIND\n",
            "| occupation code\t\t\t\tADTOCC\n",
            "| adjusted gross income\t\t\t\tAGI\n",
            "| education\t\t\t\t\tAHGA\n",
            "| wage per hour\t\t\t\t\tAHRSPAY\n",
            "| enrolled in edu inst last wk\t\t\tAHSCOL\n",
            "| marital status\t\t\t\tAMARITL\n",
            "| major industry code\t\t\t\tAMJIND\n",
            "| major occupation code\t\t\t\tAMJOCC\n",
            "| mace\t\t\t\t\t\tARACE\n",
            "| hispanic Origin\t\t\t\tAREORGN\n",
            "| sex\t\t\t\t\t\tASEX\n",
            "| member of a labor union\t\t\tAUNMEM\n",
            "| reason for unemployment\t\t\tAUNTYPE\n",
            "| full or part time employment stat\t\tAWKSTAT\n",
            "| capital gains\t\t\t\t\tCAPGAIN\n",
            "| capital losses\t\t\t\tCAPLOSS\n",
            "| divdends from stocks\t\t\t\tDIVVAL\n",
            "| federal income tax liability\t\t\tFEDTAX\n",
            "| tax filer status\t\t\t\tFILESTAT\n",
            "| region of previous residence\t\t\tGRINREG\n",
            "| state of previous residence\t\t\tGRINST\n",
            "| detailed household and family stat\t\tHHDFMX\n",
            "| detailed household summary in household\tHHDREL\n",
            "| instance weight\t\t\t\tMARSUPWT\n",
            "| migration code-change in msa\t\t\tMIGMTR1\n",
            "| migration code-change in reg\t\t\tMIGMTR3\n",
            "| migration code-move within reg\t\tMIGMTR4\n",
            "| live in this house 1 year ago\t\t\tMIGSAME\n",
            "| migration prev res in sunbelt\t\t\tMIGSUN\n",
            "| num persons worked for employer\t\tNOEMP\n",
            "| family members under 18\t\t\tPARENT\n",
            "| total person earnings\t\t\t\tPEARNVAL\n",
            "| country of birth father\t\t\tPEFNTVTY\n",
            "| country of birth mother\t\t\tPEMNTVTY\n",
            "| country of birth self\t\t\t\tPENATVTY\n",
            "| citizenship\t\t\t\t\tPRCITSHP\n",
            "| total person income\t\t\t\tPTOTVAL\n",
            "| own business or self employed\t\t\tSEOTR\n",
            "| taxable income amount\t\t\t\tTAXINC\n",
            "| fill inc questionnaire for veteran's admin\tVETQVA\n",
            "| veterans benefits\t\t\t\tVETYN\n",
            "| weeks worked in year\t\t\t\tWKSWORK\n",
            "| \n",
            "| Basic statistics for this data set:\n",
            "|\n",
            "| Number of instances data = 199523\n",
            "|    Duplicate or conflicting instances : 46716\n",
            "| Number of instances in test = 99762\n",
            "|    Duplicate or conflicting instances : 20936\n",
            "| Class probabilities for income-projected.test file\n",
            "| Probability for the label '- 50000' : 93.80%\n",
            "| Probability for the label '50000+' : 6.20%\n",
            "| Majority accuracy: 93.80% on value - 50000\n",
            "| Number of attributes = 40 (continuous : 7 nominal : 33)\n",
            "| Information about .data file : \n",
            "|   91 distinct values for attribute #0 (age) continuous\n",
            "|    9 distinct values for attribute #1 (class of worker) nominal\n",
            "|   52 distinct values for attribute #2 (detailed industry recode) nominal\n",
            "|   47 distinct values for attribute #3 (detailed occupation recode) nominal\n",
            "|   17 distinct values for attribute #4 (education) nominal\n",
            "| 1240 distinct values for attribute #5 (wage per hour) continuous\n",
            "|    3 distinct values for attribute #6 (enroll in edu inst last wk) nominal\n",
            "|    7 distinct values for attribute #7 (marital stat) nominal\n",
            "|   24 distinct values for attribute #8 (major industry code) nominal\n",
            "|   15 distinct values for attribute #9 (major occupation code) nominal\n",
            "|    5 distinct values for attribute #10 (race) nominal\n",
            "|   10 distinct values for attribute #11 (hispanic origin) nominal\n",
            "|    2 distinct values for attribute #12 (sex) nominal\n",
            "|    3 distinct values for attribute #13 (member of a labor union) nominal\n",
            "|    6 distinct values for attribute #14 (reason for unemployment) nominal\n",
            "|    8 distinct values for attribute #15 (full or part time employment stat) nominal\n",
            "|  132 distinct values for attribute #16 (capital gains) continuous\n",
            "|  113 distinct values for attribute #17 (capital losses) continuous\n",
            "| 1478 distinct values for attribute #18 (dividends from stocks) continuous\n",
            "|    6 distinct values for attribute #19 (tax filer stat) nominal\n",
            "|    6 distinct values for attribute #20 (region of previous residence) nominal\n",
            "|   51 distinct values for attribute #21 (state of previous residence) nominal\n",
            "|   38 distinct values for attribute #22 (detailed household and family stat) nominal\n",
            "|    8 distinct values for attribute #23 (detailed household summary in household) nominal\n",
            "|   10 distinct values for attribute #24 (migration code-change in msa) nominal\n",
            "|    9 distinct values for attribute #25 (migration code-change in reg) nominal\n",
            "|   10 distinct values for attribute #26 (migration code-move within reg) nominal\n",
            "|    3 distinct values for attribute #27 (live in this house 1 year ago) nominal\n",
            "|    4 distinct values for attribute #28 (migration prev res in sunbelt) nominal\n",
            "|    7 distinct values for attribute #29 (num persons worked for employer) continuous\n",
            "|    5 distinct values for attribute #30 (family members under 18) nominal\n",
            "|   43 distinct values for attribute #31 (country of birth father) nominal\n",
            "|   43 distinct values for attribute #32 (country of birth mother) nominal\n",
            "|   43 distinct values for attribute #33 (country of birth self) nominal\n",
            "|    5 distinct values for attribute #34 (citizenship) nominal\n",
            "|    3 distinct values for attribute #35 (own business or self employed) nominal\n",
            "|    3 distinct values for attribute #36 (fill inc questionnaire for veteran's admin) nominal\n",
            "|    3 distinct values for attribute #37 (veterans benefits) nominal\n",
            "|   53 distinct values for attribute #38 (weeks worked in year) continuous\n",
            "|    2 distinct values for attribute #39 (year) nominal\n",
            "| \n",
            "|\n",
            "| Error rates:\n",
            "|    C4.5       \t: 4.8%\n",
            "|    C5.0\t\t: 4.7%\n",
            "|    C5.0 rules\t\t: 4.7%\n",
            "|    C5.0 boosting\t: 4.6%\n",
            "|    Naive-Bayes\t: 23.2%\n",
            "|\n",
            "| \n",
            "| All commas and periods were changed to spaces\n",
            "| Colons were replaced with dashes.\n",
            "|\n",
            "| The instance weight indicates the number of people in the population\n",
            "| that each record represents due to stratified sampling.\n",
            "| To do real analysis and derive conclusions, this field must be used.\n",
            "| This attribute should *not* be used in the classifiers, so it is\n",
            "| set to \"ignore\" in this file.\n",
            "|\n",
            "- 50000, 50000+.\n",
            "\n",
            "age: continuous.\n",
            "class of worker: Not in universe, Federal government, Local government, Never worked, Private, Self-employed-incorporated, \n",
            "Self-employed-not incorporated, State government, Without pay.\n",
            "detailed industry recode: 0, 40, 44, 2, 43, 47, 48, 1, 11, 19, 24, 25, 32, 33, 34, 35, 36, 37, 38, 39, 4, 42, 45, 5, 15, 16, 22, \n",
            "29, 31, 50, 14, 17, 18, 28, 3, 30, 41, 46, 51, 12, 13, 21, 23, 26, 6, 7, 9, 49, 27, 8, 10, 20.\n",
            "detailed occupation recode: 0, 12, 31, 44, 19, 32, 10, 23, 26, 28, 29, 42, 40, 34, 14, 36, 38, 2, 20, 25, 37, 41, 27, 24, 30, 43, \n",
            "33, 16, 45, 17, 35, 22, 18, 39, 3, 15, 13, 46, 8, 21, 9, 4, 6, 5, 1, 11, 7.\n",
            "education: Children, 7th and 8th grade, 9th grade, 10th grade, High school graduate, 11th grade, 12th grade no diploma, 5th or \n",
            "6th grade, Less than 1st grade, Bachelors degree(BA AB BS), 1st 2nd 3rd or 4th grade, Some college but no degree, Masters \n",
            "degree(MA MS MEng MEd MSW MBA), Associates degree-occup /vocational, Associates degree-academic program, Doctorate degree(PhD \n",
            "EdD), Prof school degree (MD DDS DVM LLB JD).\n",
            "wage per hour: continuous.\n",
            "enroll in edu inst last wk: Not in universe, High school, College or university.\n",
            "marital stat: Never married, Married-civilian spouse present, Married-spouse absent, Separated, Divorced, Widowed, Married-A F \n",
            "spouse present.\n",
            "major industry code: Not in universe or children, Entertainment, Social services, Agriculture, Education, Public administration, \n",
            "Manufacturing-durable goods, Manufacturing-nondurable goods, Wholesale trade, Retail trade, Finance insurance and real estate, \n",
            "Private household services, Business and repair services, Personal services except private HH, Construction, Medical except \n",
            "hospital, Other professional services, Transportation, Utilities and sanitary services, Mining, Communications, Hospital \n",
            "services, Forestry and fisheries, Armed Forces.\n",
            "major occupation code: Not in universe, Professional specialty, Other service, Farming forestry and fishing, Sales, Adm support \n",
            "including clerical, Protective services, Handlers equip cleaners etc , Precision production craft & repair, Technicians and \n",
            "related support, Machine operators assmblrs & inspctrs, Transportation and material moving, Executive admin and managerial, \n",
            "Private household services, Armed Forces.\n",
            "race: White, Black, Other, Amer Indian Aleut or Eskimo, Asian or Pacific Islander.\n",
            "hispanic origin: Mexican (Mexicano), Mexican-American, Puerto Rican, Central or South American, All other, Other Spanish, \n",
            "Chicano, Cuban, Do not know, NA.\n",
            "sex: Female, Male.\n",
            "member of a labor union: Not in universe, No, Yes.\n",
            "reason for unemployment: Not in universe, Re-entrant, Job loser - on layoff, New entrant, Job leaver, Other job loser.\n",
            "full or part time employment stat: Children or Armed Forces, Full-time schedules, Unemployed part- time, Not in labor force, \n",
            "Unemployed full-time, PT for non-econ reasons usually FT, PT for econ reasons usually PT, PT for econ reasons usually FT.\n",
            "capital gains: continuous.\n",
            "capital losses: continuous.\n",
            "dividends from stocks: continuous.\n",
            "tax filer stat: Nonfiler, Joint one under 65 & one 65+, Joint both under 65, Single, Head of household, Joint both 65+.\n",
            "region of previous residence: Not in universe, South, Northeast, West, Midwest, Abroad.\n",
            "state of previous residence: Not in universe, Utah, Michigan, North Carolina, North Dakota, Virginia, Vermont, Wyoming, West \n",
            "Virginia, Pennsylvania, Abroad, Oregon, California, Iowa, Florida, Arkansas, Texas, South Carolina, Arizona, Indiana, Tennessee, \n",
            "Maine, Alaska, Ohio, Montana, Nebraska, Mississippi, District of Columbia, Minnesota, Illinois, Kentucky, Delaware, Colorado, \n",
            "Maryland, Wisconsin, New Hampshire, Nevada, New York, Georgia, Oklahoma, New Mexico, South Dakota, Missouri, Kansas, Connecticut, \n",
            "Louisiana, Alabama, Massachusetts, Idaho, New Jersey.\n",
            "detailed household and family stat: Child <18 never marr not in subfamily, Other Rel <18 never marr child of subfamily RP, Other \n",
            "Rel <18 never marr not in subfamily, Grandchild <18 never marr child of subfamily RP, Grandchild <18 never marr not in subfamily, \n",
            "Secondary individual, In group quarters, Child under 18 of RP of unrel subfamily, RP of unrelated subfamily, Spouse of \n",
            "householder, Householder, Other Rel <18 never married RP of subfamily, Grandchild <18 never marr RP of subfamily, Child <18 never \n",
            "marr RP of subfamily, Child <18 ever marr not in subfamily, Other Rel <18 ever marr RP of subfamily, Child <18 ever marr RP of \n",
            "subfamily, Nonfamily householder, Child <18 spouse of subfamily RP, Other Rel <18 spouse of subfamily RP, Other Rel <18 ever marr \n",
            "not in subfamily, Grandchild <18 ever marr not in subfamily, Child 18+ never marr Not in a subfamily, Grandchild 18+ never marr \n",
            "not in subfamily, Child 18+ ever marr RP of subfamily, Other Rel 18+ never marr not in subfamily, Child 18+ never marr RP of \n",
            "subfamily, Other Rel 18+ ever marr RP of subfamily, Other Rel 18+ never marr RP of subfamily, Other Rel 18+ spouse of subfamily \n",
            "RP, Other Rel 18+ ever marr not in subfamily, Child 18+ ever marr Not in a subfamily, Grandchild 18+ ever marr not in subfamily, \n",
            "Child 18+ spouse of subfamily RP, Spouse of RP of unrelated subfamily, Grandchild 18+ ever marr RP of subfamily, Grandchild 18+ \n",
            "never marr RP of subfamily, Grandchild 18+ spouse of subfamily RP.\n",
            "detailed household summary in household: Child under 18 never married, Other relative of householder, Nonrelative of householder, \n",
            "Spouse of householder, Householder, Child under 18 ever married, Group Quarters- Secondary individual, Child 18 or older.\n",
            "| instance weight: ignore.\n",
            "instance weight: continuous.\n",
            "migration code-change in msa: Not in universe, Nonmover, MSA to MSA, NonMSA to nonMSA, MSA to nonMSA, NonMSA to MSA, Abroad to \n",
            "MSA, Not identifiable, Abroad to nonMSA.\n",
            "migration code-change in reg: Not in universe, Nonmover, Same county, Different county same state, Different state same division, \n",
            "Abroad, Different region, Different division same region.\n",
            "migration code-move within reg: Not in universe, Nonmover, Same county, Different county same state, Different state in West, \n",
            "Abroad, Different state in Midwest, Different state in South, Different state in Northeast.\n",
            "live in this house 1 year ago: Not in universe under 1 year old, Yes, No.\n",
            "migration prev res in sunbelt: Not in universe, Yes, No.\n",
            "num persons worked for employer: continuous.\n",
            "family members under 18: Both parents present, Neither parent present, Mother only present, Father only present, Not in universe.\n",
            "country of birth father: Mexico, United-States, Puerto-Rico, Dominican-Republic, Jamaica, Cuba, Portugal, Nicaragua, Peru, \n",
            "Ecuador, Guatemala, Philippines, Canada, Columbia, El-Salvador, Japan, England, Trinadad&Tobago, Honduras, Germany, Taiwan, \n",
            "Outlying-U S (Guam USVI etc), India, Vietnam, China, Hong Kong, Cambodia, France, Laos, Haiti, South Korea, Iran, Greece, Italy, \n",
            "Poland, Thailand, Yugoslavia, Holand-Netherlands, Ireland, Scotland, Hungary, Panama.\n",
            "country of birth mother: India, Mexico, United-States, Puerto-Rico, Dominican-Republic, England, Honduras, Peru, Guatemala, \n",
            "Columbia, El-Salvador, Philippines, France, Ecuador, Nicaragua, Cuba, Outlying-U S (Guam USVI etc), Jamaica, South Korea, China, \n",
            "Germany, Yugoslavia, Canada, Vietnam, Japan, Cambodia, Ireland, Laos, Haiti, Portugal, Taiwan, Holand-Netherlands, Greece, Italy, \n",
            "Poland, Thailand, Trinadad&Tobago, Hungary, Panama, Hong Kong, Scotland, Iran.\n",
            "country of birth self: United-States, Mexico, Puerto-Rico, Peru, Canada, South Korea, India, Japan, Haiti, El-Salvador, \n",
            "Dominican-Republic, Portugal, Columbia, England, Thailand, Cuba, Laos, Panama, China, Germany, Vietnam, Italy, Honduras, \n",
            "Outlying-U S (Guam USVI etc), Hungary, Philippines, Poland, Ecuador, Iran, Guatemala, Holand-Netherlands, Taiwan, Nicaragua, \n",
            "France, Jamaica, Scotland, Yugoslavia, Hong Kong, Trinadad&Tobago, Greece, Cambodia, Ireland.\n",
            "citizenship: Native- Born in the United States, Foreign born- Not a citizen of U S , Native- Born in Puerto Rico or U S Outlying, \n",
            "Native- Born abroad of American Parent(s), Foreign born- U S citizen by naturalization.\n",
            "own business or self employed: 0, 2, 1.\n",
            "fill inc questionnaire for veteran's admin: Not in universe, Yes, No.\n",
            "veterans benefits: 0, 2, 1.\n",
            "weeks worked in year: continuous.\n",
            "year: 94, 95.\n"
          ],
          "name": "stdout"
        }
      ]
    },
    {
      "cell_type": "code",
      "metadata": {
        "id": "7vtj3S3yWUOj",
        "colab_type": "code",
        "colab": {
          "base_uri": "https://localhost:8080/",
          "height": 70
        },
        "outputId": "a246c86b-d246-4ae3-9303-0408f060ce71"
      },
      "source": [
        "# Check if there's a header in the train file\n",
        "!head -2 $train"
      ],
      "execution_count": 12,
      "outputs": [
        {
          "output_type": "stream",
          "text": [
            "73, Not in universe, 0, 0, High school graduate, 0, Not in universe, Widowed, Not in universe or children, Not in universe, White, All other, Female, Not in universe, Not in universe, Not in labor force, 0, 0, 0, Nonfiler, Not in universe, Not in universe, Other Rel 18+ ever marr not in subfamily, Other relative of householder, 1700.09, ?, ?, ?, Not in universe under 1 year old, ?, 0, Not in universe, United-States, United-States, United-States, Native- Born in the United States, 0, Not in universe, 2, 0, 95, - 50000.\n",
            "58, Self-employed-not incorporated, 4, 34, Some college but no degree, 0, Not in universe, Divorced, Construction, Precision production craft & repair, White, All other, Male, Not in universe, Not in universe, Children or Armed Forces, 0, 0, 0, Head of household, South, Arkansas, Householder, Householder, 1053.55, MSA to MSA, Same county, Same county, No, Yes, 1, Not in universe, United-States, United-States, United-States, Native- Born in the United States, 0, Not in universe, 2, 52, 94, - 50000.\n"
          ],
          "name": "stdout"
        }
      ]
    },
    {
      "cell_type": "code",
      "metadata": {
        "id": "QGctKhCXWl0w",
        "colab_type": "code",
        "colab": {
          "base_uri": "https://localhost:8080/",
          "height": 70
        },
        "outputId": "7daf6ad2-354e-45a6-8372-3b162595c16a"
      },
      "source": [
        "# Check if there's a header in the test file\n",
        "!head -2 $test"
      ],
      "execution_count": 13,
      "outputs": [
        {
          "output_type": "stream",
          "text": [
            "38, Private, 6, 36, 1st 2nd 3rd or 4th grade, 0, Not in universe, Married-civilian spouse present, Manufacturing-durable goods, Machine operators assmblrs & inspctrs, White, Mexican (Mexicano), Female, Not in universe, Not in universe, Full-time schedules, 0, 0, 0, Joint one under 65 & one 65+, Not in universe, Not in universe, Spouse of householder, Spouse of householder, 1032.38, ?, ?, ?, Not in universe under 1 year old, ?, 4, Not in universe, Mexico, Mexico, Mexico, Foreign born- Not a citizen of U S , 0, Not in universe, 2, 12, 95, - 50000.\n",
            "44, Self-employed-not incorporated, 37, 12, Associates degree-occup /vocational, 0, Not in universe, Married-civilian spouse present, Business and repair services, Professional specialty, White, All other, Female, Not in universe, Not in universe, PT for econ reasons usually PT, 0, 0, 2500, Joint both under 65, Not in universe, Not in universe, Spouse of householder, Spouse of householder, 1462.33, ?, ?, ?, Not in universe under 1 year old, ?, 1, Not in universe, United-States, United-States, United-States, Native- Born in the United States, 0, Not in universe, 2, 26, 95, - 50000.\n"
          ],
          "name": "stdout"
        }
      ]
    },
    {
      "cell_type": "code",
      "metadata": {
        "id": "OAYWLzTfR-WP",
        "colab_type": "code",
        "colab": {
          "base_uri": "https://localhost:8080/",
          "height": 82
        },
        "outputId": "76446bde-af43-4589-bc4c-0f4d22119c31"
      },
      "source": [
        "%time df  = pd.read_csv(train, header=None)\n",
        "%time t_df = pd.read_csv(test, header=None) "
      ],
      "execution_count": 14,
      "outputs": [
        {
          "output_type": "stream",
          "text": [
            "CPU times: user 1.2 s, sys: 99.7 ms, total: 1.3 s\n",
            "Wall time: 1.3 s\n",
            "CPU times: user 616 ms, sys: 21.5 ms, total: 638 ms\n",
            "Wall time: 637 ms\n"
          ],
          "name": "stdout"
        }
      ]
    },
    {
      "cell_type": "code",
      "metadata": {
        "id": "7qoFDP9VVpVf",
        "colab_type": "code",
        "colab": {
          "base_uri": "https://localhost:8080/",
          "height": 536
        },
        "outputId": "40dc8679-bae2-46b2-f8cb-9b3b9fcbe8c3"
      },
      "source": [
        "# Check\n",
        "df.head(5)"
      ],
      "execution_count": 15,
      "outputs": [
        {
          "output_type": "execute_result",
          "data": {
            "text/html": [
              "<div>\n",
              "<style scoped>\n",
              "    .dataframe tbody tr th:only-of-type {\n",
              "        vertical-align: middle;\n",
              "    }\n",
              "\n",
              "    .dataframe tbody tr th {\n",
              "        vertical-align: top;\n",
              "    }\n",
              "\n",
              "    .dataframe thead th {\n",
              "        text-align: right;\n",
              "    }\n",
              "</style>\n",
              "<table border=\"1\" class=\"dataframe\">\n",
              "  <thead>\n",
              "    <tr style=\"text-align: right;\">\n",
              "      <th></th>\n",
              "      <th>0</th>\n",
              "      <th>1</th>\n",
              "      <th>2</th>\n",
              "      <th>3</th>\n",
              "      <th>4</th>\n",
              "      <th>5</th>\n",
              "      <th>6</th>\n",
              "      <th>7</th>\n",
              "      <th>8</th>\n",
              "      <th>9</th>\n",
              "      <th>10</th>\n",
              "      <th>11</th>\n",
              "      <th>12</th>\n",
              "      <th>13</th>\n",
              "      <th>14</th>\n",
              "      <th>15</th>\n",
              "      <th>16</th>\n",
              "      <th>17</th>\n",
              "      <th>18</th>\n",
              "      <th>19</th>\n",
              "      <th>20</th>\n",
              "      <th>21</th>\n",
              "      <th>22</th>\n",
              "      <th>23</th>\n",
              "      <th>24</th>\n",
              "      <th>25</th>\n",
              "      <th>26</th>\n",
              "      <th>27</th>\n",
              "      <th>28</th>\n",
              "      <th>29</th>\n",
              "      <th>30</th>\n",
              "      <th>31</th>\n",
              "      <th>32</th>\n",
              "      <th>33</th>\n",
              "      <th>34</th>\n",
              "      <th>35</th>\n",
              "      <th>36</th>\n",
              "      <th>37</th>\n",
              "      <th>38</th>\n",
              "      <th>39</th>\n",
              "      <th>40</th>\n",
              "      <th>41</th>\n",
              "    </tr>\n",
              "  </thead>\n",
              "  <tbody>\n",
              "    <tr>\n",
              "      <th>0</th>\n",
              "      <td>73</td>\n",
              "      <td>Not in universe</td>\n",
              "      <td>0</td>\n",
              "      <td>0</td>\n",
              "      <td>High school graduate</td>\n",
              "      <td>0</td>\n",
              "      <td>Not in universe</td>\n",
              "      <td>Widowed</td>\n",
              "      <td>Not in universe or children</td>\n",
              "      <td>Not in universe</td>\n",
              "      <td>White</td>\n",
              "      <td>All other</td>\n",
              "      <td>Female</td>\n",
              "      <td>Not in universe</td>\n",
              "      <td>Not in universe</td>\n",
              "      <td>Not in labor force</td>\n",
              "      <td>0</td>\n",
              "      <td>0</td>\n",
              "      <td>0</td>\n",
              "      <td>Nonfiler</td>\n",
              "      <td>Not in universe</td>\n",
              "      <td>Not in universe</td>\n",
              "      <td>Other Rel 18+ ever marr not in subfamily</td>\n",
              "      <td>Other relative of householder</td>\n",
              "      <td>1700.09</td>\n",
              "      <td>?</td>\n",
              "      <td>?</td>\n",
              "      <td>?</td>\n",
              "      <td>Not in universe under 1 year old</td>\n",
              "      <td>?</td>\n",
              "      <td>0</td>\n",
              "      <td>Not in universe</td>\n",
              "      <td>United-States</td>\n",
              "      <td>United-States</td>\n",
              "      <td>United-States</td>\n",
              "      <td>Native- Born in the United States</td>\n",
              "      <td>0</td>\n",
              "      <td>Not in universe</td>\n",
              "      <td>2</td>\n",
              "      <td>0</td>\n",
              "      <td>95</td>\n",
              "      <td>- 50000.</td>\n",
              "    </tr>\n",
              "    <tr>\n",
              "      <th>1</th>\n",
              "      <td>58</td>\n",
              "      <td>Self-employed-not incorporated</td>\n",
              "      <td>4</td>\n",
              "      <td>34</td>\n",
              "      <td>Some college but no degree</td>\n",
              "      <td>0</td>\n",
              "      <td>Not in universe</td>\n",
              "      <td>Divorced</td>\n",
              "      <td>Construction</td>\n",
              "      <td>Precision production craft &amp; repair</td>\n",
              "      <td>White</td>\n",
              "      <td>All other</td>\n",
              "      <td>Male</td>\n",
              "      <td>Not in universe</td>\n",
              "      <td>Not in universe</td>\n",
              "      <td>Children or Armed Forces</td>\n",
              "      <td>0</td>\n",
              "      <td>0</td>\n",
              "      <td>0</td>\n",
              "      <td>Head of household</td>\n",
              "      <td>South</td>\n",
              "      <td>Arkansas</td>\n",
              "      <td>Householder</td>\n",
              "      <td>Householder</td>\n",
              "      <td>1053.55</td>\n",
              "      <td>MSA to MSA</td>\n",
              "      <td>Same county</td>\n",
              "      <td>Same county</td>\n",
              "      <td>No</td>\n",
              "      <td>Yes</td>\n",
              "      <td>1</td>\n",
              "      <td>Not in universe</td>\n",
              "      <td>United-States</td>\n",
              "      <td>United-States</td>\n",
              "      <td>United-States</td>\n",
              "      <td>Native- Born in the United States</td>\n",
              "      <td>0</td>\n",
              "      <td>Not in universe</td>\n",
              "      <td>2</td>\n",
              "      <td>52</td>\n",
              "      <td>94</td>\n",
              "      <td>- 50000.</td>\n",
              "    </tr>\n",
              "    <tr>\n",
              "      <th>2</th>\n",
              "      <td>18</td>\n",
              "      <td>Not in universe</td>\n",
              "      <td>0</td>\n",
              "      <td>0</td>\n",
              "      <td>10th grade</td>\n",
              "      <td>0</td>\n",
              "      <td>High school</td>\n",
              "      <td>Never married</td>\n",
              "      <td>Not in universe or children</td>\n",
              "      <td>Not in universe</td>\n",
              "      <td>Asian or Pacific Islander</td>\n",
              "      <td>All other</td>\n",
              "      <td>Female</td>\n",
              "      <td>Not in universe</td>\n",
              "      <td>Not in universe</td>\n",
              "      <td>Not in labor force</td>\n",
              "      <td>0</td>\n",
              "      <td>0</td>\n",
              "      <td>0</td>\n",
              "      <td>Nonfiler</td>\n",
              "      <td>Not in universe</td>\n",
              "      <td>Not in universe</td>\n",
              "      <td>Child 18+ never marr Not in a subfamily</td>\n",
              "      <td>Child 18 or older</td>\n",
              "      <td>991.95</td>\n",
              "      <td>?</td>\n",
              "      <td>?</td>\n",
              "      <td>?</td>\n",
              "      <td>Not in universe under 1 year old</td>\n",
              "      <td>?</td>\n",
              "      <td>0</td>\n",
              "      <td>Not in universe</td>\n",
              "      <td>Vietnam</td>\n",
              "      <td>Vietnam</td>\n",
              "      <td>Vietnam</td>\n",
              "      <td>Foreign born- Not a citizen of U S</td>\n",
              "      <td>0</td>\n",
              "      <td>Not in universe</td>\n",
              "      <td>2</td>\n",
              "      <td>0</td>\n",
              "      <td>95</td>\n",
              "      <td>- 50000.</td>\n",
              "    </tr>\n",
              "    <tr>\n",
              "      <th>3</th>\n",
              "      <td>9</td>\n",
              "      <td>Not in universe</td>\n",
              "      <td>0</td>\n",
              "      <td>0</td>\n",
              "      <td>Children</td>\n",
              "      <td>0</td>\n",
              "      <td>Not in universe</td>\n",
              "      <td>Never married</td>\n",
              "      <td>Not in universe or children</td>\n",
              "      <td>Not in universe</td>\n",
              "      <td>White</td>\n",
              "      <td>All other</td>\n",
              "      <td>Female</td>\n",
              "      <td>Not in universe</td>\n",
              "      <td>Not in universe</td>\n",
              "      <td>Children or Armed Forces</td>\n",
              "      <td>0</td>\n",
              "      <td>0</td>\n",
              "      <td>0</td>\n",
              "      <td>Nonfiler</td>\n",
              "      <td>Not in universe</td>\n",
              "      <td>Not in universe</td>\n",
              "      <td>Child &lt;18 never marr not in subfamily</td>\n",
              "      <td>Child under 18 never married</td>\n",
              "      <td>1758.14</td>\n",
              "      <td>Nonmover</td>\n",
              "      <td>Nonmover</td>\n",
              "      <td>Nonmover</td>\n",
              "      <td>Yes</td>\n",
              "      <td>Not in universe</td>\n",
              "      <td>0</td>\n",
              "      <td>Both parents present</td>\n",
              "      <td>United-States</td>\n",
              "      <td>United-States</td>\n",
              "      <td>United-States</td>\n",
              "      <td>Native- Born in the United States</td>\n",
              "      <td>0</td>\n",
              "      <td>Not in universe</td>\n",
              "      <td>0</td>\n",
              "      <td>0</td>\n",
              "      <td>94</td>\n",
              "      <td>- 50000.</td>\n",
              "    </tr>\n",
              "    <tr>\n",
              "      <th>4</th>\n",
              "      <td>10</td>\n",
              "      <td>Not in universe</td>\n",
              "      <td>0</td>\n",
              "      <td>0</td>\n",
              "      <td>Children</td>\n",
              "      <td>0</td>\n",
              "      <td>Not in universe</td>\n",
              "      <td>Never married</td>\n",
              "      <td>Not in universe or children</td>\n",
              "      <td>Not in universe</td>\n",
              "      <td>White</td>\n",
              "      <td>All other</td>\n",
              "      <td>Female</td>\n",
              "      <td>Not in universe</td>\n",
              "      <td>Not in universe</td>\n",
              "      <td>Children or Armed Forces</td>\n",
              "      <td>0</td>\n",
              "      <td>0</td>\n",
              "      <td>0</td>\n",
              "      <td>Nonfiler</td>\n",
              "      <td>Not in universe</td>\n",
              "      <td>Not in universe</td>\n",
              "      <td>Child &lt;18 never marr not in subfamily</td>\n",
              "      <td>Child under 18 never married</td>\n",
              "      <td>1069.16</td>\n",
              "      <td>Nonmover</td>\n",
              "      <td>Nonmover</td>\n",
              "      <td>Nonmover</td>\n",
              "      <td>Yes</td>\n",
              "      <td>Not in universe</td>\n",
              "      <td>0</td>\n",
              "      <td>Both parents present</td>\n",
              "      <td>United-States</td>\n",
              "      <td>United-States</td>\n",
              "      <td>United-States</td>\n",
              "      <td>Native- Born in the United States</td>\n",
              "      <td>0</td>\n",
              "      <td>Not in universe</td>\n",
              "      <td>0</td>\n",
              "      <td>0</td>\n",
              "      <td>94</td>\n",
              "      <td>- 50000.</td>\n",
              "    </tr>\n",
              "  </tbody>\n",
              "</table>\n",
              "</div>"
            ],
            "text/plain": [
              "   0                                1   2   3   ... 38  39  40         41\n",
              "0  73                  Not in universe   0   0  ...  2   0  95   - 50000.\n",
              "1  58   Self-employed-not incorporated   4  34  ...  2  52  94   - 50000.\n",
              "2  18                  Not in universe   0   0  ...  2   0  95   - 50000.\n",
              "3   9                  Not in universe   0   0  ...  0   0  94   - 50000.\n",
              "4  10                  Not in universe   0   0  ...  0   0  94   - 50000.\n",
              "\n",
              "[5 rows x 42 columns]"
            ]
          },
          "metadata": {
            "tags": []
          },
          "execution_count": 15
        }
      ]
    },
    {
      "cell_type": "markdown",
      "metadata": {
        "id": "_TZZbcsDXId7",
        "colab_type": "text"
      },
      "source": [
        "## A trick from metadata for column names\n",
        " This will help us a lot during EDA. The metada contains useful information about columns, values and their properties. I can use this file to name columns and later on this will give us the option to address the dataframe by column names, which might be handy in many cases"
      ]
    },
    {
      "cell_type": "code",
      "metadata": {
        "id": "JJB6tkeYYnHZ",
        "colab_type": "code",
        "colab": {
          "base_uri": "https://localhost:8080/",
          "height": 720
        },
        "outputId": "2a09f815-c0cd-4340-f2ae-34f676d1cacf"
      },
      "source": [
        "!tail -42 $metadata"
      ],
      "execution_count": 16,
      "outputs": [
        {
          "output_type": "stream",
          "text": [
            "age: continuous.\n",
            "class of worker: Not in universe, Federal government, Local government, Never worked, Private, Self-employed-incorporated, Self-employed-not incorporated, State government, Without pay.\n",
            "detailed industry recode: 0, 40, 44, 2, 43, 47, 48, 1, 11, 19, 24, 25, 32, 33, 34, 35, 36, 37, 38, 39, 4, 42, 45, 5, 15, 16, 22, 29, 31, 50, 14, 17, 18, 28, 3, 30, 41, 46, 51, 12, 13, 21, 23, 26, 6, 7, 9, 49, 27, 8, 10, 20.\n",
            "detailed occupation recode: 0, 12, 31, 44, 19, 32, 10, 23, 26, 28, 29, 42, 40, 34, 14, 36, 38, 2, 20, 25, 37, 41, 27, 24, 30, 43, 33, 16, 45, 17, 35, 22, 18, 39, 3, 15, 13, 46, 8, 21, 9, 4, 6, 5, 1, 11, 7.\n",
            "education: Children, 7th and 8th grade, 9th grade, 10th grade, High school graduate, 11th grade, 12th grade no diploma, 5th or 6th grade, Less than 1st grade, Bachelors degree(BA AB BS), 1st 2nd 3rd or 4th grade, Some college but no degree, Masters degree(MA MS MEng MEd MSW MBA), Associates degree-occup /vocational, Associates degree-academic program, Doctorate degree(PhD EdD), Prof school degree (MD DDS DVM LLB JD).\n",
            "wage per hour: continuous.\n",
            "enroll in edu inst last wk: Not in universe, High school, College or university.\n",
            "marital stat: Never married, Married-civilian spouse present, Married-spouse absent, Separated, Divorced, Widowed, Married-A F spouse present.\n",
            "major industry code: Not in universe or children, Entertainment, Social services, Agriculture, Education, Public administration, Manufacturing-durable goods, Manufacturing-nondurable goods, Wholesale trade, Retail trade, Finance insurance and real estate, Private household services, Business and repair services, Personal services except private HH, Construction, Medical except hospital, Other professional services, Transportation, Utilities and sanitary services, Mining, Communications, Hospital services, Forestry and fisheries, Armed Forces.\n",
            "major occupation code: Not in universe, Professional specialty, Other service, Farming forestry and fishing, Sales, Adm support including clerical, Protective services, Handlers equip cleaners etc , Precision production craft & repair, Technicians and related support, Machine operators assmblrs & inspctrs, Transportation and material moving, Executive admin and managerial, Private household services, Armed Forces.\n",
            "race: White, Black, Other, Amer Indian Aleut or Eskimo, Asian or Pacific Islander.\n",
            "hispanic origin: Mexican (Mexicano), Mexican-American, Puerto Rican, Central or South American, All other, Other Spanish, Chicano, Cuban, Do not know, NA.\n",
            "sex: Female, Male.\n",
            "member of a labor union: Not in universe, No, Yes.\n",
            "reason for unemployment: Not in universe, Re-entrant, Job loser - on layoff, New entrant, Job leaver, Other job loser.\n",
            "full or part time employment stat: Children or Armed Forces, Full-time schedules, Unemployed part- time, Not in labor force, Unemployed full-time, PT for non-econ reasons usually FT, PT for econ reasons usually PT, PT for econ reasons usually FT.\n",
            "capital gains: continuous.\n",
            "capital losses: continuous.\n",
            "dividends from stocks: continuous.\n",
            "tax filer stat: Nonfiler, Joint one under 65 & one 65+, Joint both under 65, Single, Head of household, Joint both 65+.\n",
            "region of previous residence: Not in universe, South, Northeast, West, Midwest, Abroad.\n",
            "state of previous residence: Not in universe, Utah, Michigan, North Carolina, North Dakota, Virginia, Vermont, Wyoming, West Virginia, Pennsylvania, Abroad, Oregon, California, Iowa, Florida, Arkansas, Texas, South Carolina, Arizona, Indiana, Tennessee, Maine, Alaska, Ohio, Montana, Nebraska, Mississippi, District of Columbia, Minnesota, Illinois, Kentucky, Delaware, Colorado, Maryland, Wisconsin, New Hampshire, Nevada, New York, Georgia, Oklahoma, New Mexico, South Dakota, Missouri, Kansas, Connecticut, Louisiana, Alabama, Massachusetts, Idaho, New Jersey.\n",
            "detailed household and family stat: Child <18 never marr not in subfamily, Other Rel <18 never marr child of subfamily RP, Other Rel <18 never marr not in subfamily, Grandchild <18 never marr child of subfamily RP, Grandchild <18 never marr not in subfamily, Secondary individual, In group quarters, Child under 18 of RP of unrel subfamily, RP of unrelated subfamily, Spouse of householder, Householder, Other Rel <18 never married RP of subfamily, Grandchild <18 never marr RP of subfamily, Child <18 never marr RP of subfamily, Child <18 ever marr not in subfamily, Other Rel <18 ever marr RP of subfamily, Child <18 ever marr RP of subfamily, Nonfamily householder, Child <18 spouse of subfamily RP, Other Rel <18 spouse of subfamily RP, Other Rel <18 ever marr not in subfamily, Grandchild <18 ever marr not in subfamily, Child 18+ never marr Not in a subfamily, Grandchild 18+ never marr not in subfamily, Child 18+ ever marr RP of subfamily, Other Rel 18+ never marr not in subfamily, Child 18+ never marr RP of subfamily, Other Rel 18+ ever marr RP of subfamily, Other Rel 18+ never marr RP of subfamily, Other Rel 18+ spouse of subfamily RP, Other Rel 18+ ever marr not in subfamily, Child 18+ ever marr Not in a subfamily, Grandchild 18+ ever marr not in subfamily, Child 18+ spouse of subfamily RP, Spouse of RP of unrelated subfamily, Grandchild 18+ ever marr RP of subfamily, Grandchild 18+ never marr RP of subfamily, Grandchild 18+ spouse of subfamily RP.\n",
            "detailed household summary in household: Child under 18 never married, Other relative of householder, Nonrelative of householder, Spouse of householder, Householder, Child under 18 ever married, Group Quarters- Secondary individual, Child 18 or older.\n",
            "| instance weight: ignore.\n",
            "instance weight: continuous.\n",
            "migration code-change in msa: Not in universe, Nonmover, MSA to MSA, NonMSA to nonMSA, MSA to nonMSA, NonMSA to MSA, Abroad to MSA, Not identifiable, Abroad to nonMSA.\n",
            "migration code-change in reg: Not in universe, Nonmover, Same county, Different county same state, Different state same division, Abroad, Different region, Different division same region.\n",
            "migration code-move within reg: Not in universe, Nonmover, Same county, Different county same state, Different state in West, Abroad, Different state in Midwest, Different state in South, Different state in Northeast.\n",
            "live in this house 1 year ago: Not in universe under 1 year old, Yes, No.\n",
            "migration prev res in sunbelt: Not in universe, Yes, No.\n",
            "num persons worked for employer: continuous.\n",
            "family members under 18: Both parents present, Neither parent present, Mother only present, Father only present, Not in universe.\n",
            "country of birth father: Mexico, United-States, Puerto-Rico, Dominican-Republic, Jamaica, Cuba, Portugal, Nicaragua, Peru, Ecuador, Guatemala, Philippines, Canada, Columbia, El-Salvador, Japan, England, Trinadad&Tobago, Honduras, Germany, Taiwan, Outlying-U S (Guam USVI etc), India, Vietnam, China, Hong Kong, Cambodia, France, Laos, Haiti, South Korea, Iran, Greece, Italy, Poland, Thailand, Yugoslavia, Holand-Netherlands, Ireland, Scotland, Hungary, Panama.\n",
            "country of birth mother: India, Mexico, United-States, Puerto-Rico, Dominican-Republic, England, Honduras, Peru, Guatemala, Columbia, El-Salvador, Philippines, France, Ecuador, Nicaragua, Cuba, Outlying-U S (Guam USVI etc), Jamaica, South Korea, China, Germany, Yugoslavia, Canada, Vietnam, Japan, Cambodia, Ireland, Laos, Haiti, Portugal, Taiwan, Holand-Netherlands, Greece, Italy, Poland, Thailand, Trinadad&Tobago, Hungary, Panama, Hong Kong, Scotland, Iran.\n",
            "country of birth self: United-States, Mexico, Puerto-Rico, Peru, Canada, South Korea, India, Japan, Haiti, El-Salvador, Dominican-Republic, Portugal, Columbia, England, Thailand, Cuba, Laos, Panama, China, Germany, Vietnam, Italy, Honduras, Outlying-U S (Guam USVI etc), Hungary, Philippines, Poland, Ecuador, Iran, Guatemala, Holand-Netherlands, Taiwan, Nicaragua, France, Jamaica, Scotland, Yugoslavia, Hong Kong, Trinadad&Tobago, Greece, Cambodia, Ireland.\n",
            "citizenship: Native- Born in the United States, Foreign born- Not a citizen of U S , Native- Born in Puerto Rico or U S Outlying, Native- Born abroad of American Parent(s), Foreign born- U S citizen by naturalization.\n",
            "own business or self employed: 0, 2, 1.\n",
            "fill inc questionnaire for veteran's admin: Not in universe, Yes, No.\n",
            "veterans benefits: 0, 2, 1.\n",
            "weeks worked in year: continuous.\n",
            "year: 94, 95.\n"
          ],
          "name": "stdout"
        }
      ]
    },
    {
      "cell_type": "markdown",
      "metadata": {
        "id": "Uf1Dy9yRr3Ai",
        "colab_type": "text"
      },
      "source": [
        "From the above we can see that the last 42 rows are the column names\n",
        "We can use this info to improve our datasets and help us eith EDA. Besides, the metada tells us to ignore '|_instance_weight' the 24th record\n",
        "\n"
      ]
    },
    {
      "cell_type": "code",
      "metadata": {
        "id": "dzCgdwxDXQOl",
        "colab_type": "code",
        "colab": {
          "base_uri": "https://localhost:8080/",
          "height": 406
        },
        "outputId": "5298e9ed-b0ea-49c8-c093-f4c5375d2d0d"
      },
      "source": [
        "# We will beed a list to append to...\n",
        "cols = []\n",
        "\n",
        "# Save metadata last 42 rows\n",
        "column_names = !tail -42 $metadata\n",
        "\n",
        "# Remove the record to be ignored '|_instance_weight'\n",
        "column_names.pop(24)        \n",
        "\n",
        "# Build column helper\n",
        "for col in column_names:\n",
        "  record = col.split(\":\")[0].replace(\" \",\"_\")\n",
        "  cols.append(record)\n",
        "\n",
        "# Add target variable's column not listed in metadata\n",
        "cols.append(\"target\")\n",
        "\n",
        "# Insert column names into dataframes\n",
        "df.columns = cols\n",
        "t_df.columns = cols\n",
        "\n",
        "# Voila!\n",
        "df.head(5)"
      ],
      "execution_count": 17,
      "outputs": [
        {
          "output_type": "execute_result",
          "data": {
            "text/html": [
              "<div>\n",
              "<style scoped>\n",
              "    .dataframe tbody tr th:only-of-type {\n",
              "        vertical-align: middle;\n",
              "    }\n",
              "\n",
              "    .dataframe tbody tr th {\n",
              "        vertical-align: top;\n",
              "    }\n",
              "\n",
              "    .dataframe thead th {\n",
              "        text-align: right;\n",
              "    }\n",
              "</style>\n",
              "<table border=\"1\" class=\"dataframe\">\n",
              "  <thead>\n",
              "    <tr style=\"text-align: right;\">\n",
              "      <th></th>\n",
              "      <th>age</th>\n",
              "      <th>class_of_worker</th>\n",
              "      <th>detailed_industry_recode</th>\n",
              "      <th>detailed_occupation_recode</th>\n",
              "      <th>education</th>\n",
              "      <th>wage_per_hour</th>\n",
              "      <th>enroll_in_edu_inst_last_wk</th>\n",
              "      <th>marital_stat</th>\n",
              "      <th>major_industry_code</th>\n",
              "      <th>major_occupation_code</th>\n",
              "      <th>race</th>\n",
              "      <th>hispanic_origin</th>\n",
              "      <th>sex</th>\n",
              "      <th>member_of_a_labor_union</th>\n",
              "      <th>reason_for_unemployment</th>\n",
              "      <th>full_or_part_time_employment_stat</th>\n",
              "      <th>capital_gains</th>\n",
              "      <th>capital_losses</th>\n",
              "      <th>dividends_from_stocks</th>\n",
              "      <th>tax_filer_stat</th>\n",
              "      <th>region_of_previous_residence</th>\n",
              "      <th>state_of_previous_residence</th>\n",
              "      <th>detailed_household_and_family_stat</th>\n",
              "      <th>detailed_household_summary_in_household</th>\n",
              "      <th>instance_weight</th>\n",
              "      <th>migration_code-change_in_msa</th>\n",
              "      <th>migration_code-change_in_reg</th>\n",
              "      <th>migration_code-move_within_reg</th>\n",
              "      <th>live_in_this_house_1_year_ago</th>\n",
              "      <th>migration_prev_res_in_sunbelt</th>\n",
              "      <th>num_persons_worked_for_employer</th>\n",
              "      <th>family_members_under_18</th>\n",
              "      <th>country_of_birth_father</th>\n",
              "      <th>country_of_birth_mother</th>\n",
              "      <th>country_of_birth_self</th>\n",
              "      <th>citizenship</th>\n",
              "      <th>own_business_or_self_employed</th>\n",
              "      <th>fill_inc_questionnaire_for_veteran's_admin</th>\n",
              "      <th>veterans_benefits</th>\n",
              "      <th>weeks_worked_in_year</th>\n",
              "      <th>year</th>\n",
              "      <th>target</th>\n",
              "    </tr>\n",
              "  </thead>\n",
              "  <tbody>\n",
              "    <tr>\n",
              "      <th>0</th>\n",
              "      <td>73</td>\n",
              "      <td>Not in universe</td>\n",
              "      <td>0</td>\n",
              "      <td>0</td>\n",
              "      <td>High school graduate</td>\n",
              "      <td>0</td>\n",
              "      <td>Not in universe</td>\n",
              "      <td>Widowed</td>\n",
              "      <td>Not in universe or children</td>\n",
              "      <td>Not in universe</td>\n",
              "      <td>White</td>\n",
              "      <td>All other</td>\n",
              "      <td>Female</td>\n",
              "      <td>Not in universe</td>\n",
              "      <td>Not in universe</td>\n",
              "      <td>Not in labor force</td>\n",
              "      <td>0</td>\n",
              "      <td>0</td>\n",
              "      <td>0</td>\n",
              "      <td>Nonfiler</td>\n",
              "      <td>Not in universe</td>\n",
              "      <td>Not in universe</td>\n",
              "      <td>Other Rel 18+ ever marr not in subfamily</td>\n",
              "      <td>Other relative of householder</td>\n",
              "      <td>1700.09</td>\n",
              "      <td>?</td>\n",
              "      <td>?</td>\n",
              "      <td>?</td>\n",
              "      <td>Not in universe under 1 year old</td>\n",
              "      <td>?</td>\n",
              "      <td>0</td>\n",
              "      <td>Not in universe</td>\n",
              "      <td>United-States</td>\n",
              "      <td>United-States</td>\n",
              "      <td>United-States</td>\n",
              "      <td>Native- Born in the United States</td>\n",
              "      <td>0</td>\n",
              "      <td>Not in universe</td>\n",
              "      <td>2</td>\n",
              "      <td>0</td>\n",
              "      <td>95</td>\n",
              "      <td>- 50000.</td>\n",
              "    </tr>\n",
              "    <tr>\n",
              "      <th>1</th>\n",
              "      <td>58</td>\n",
              "      <td>Self-employed-not incorporated</td>\n",
              "      <td>4</td>\n",
              "      <td>34</td>\n",
              "      <td>Some college but no degree</td>\n",
              "      <td>0</td>\n",
              "      <td>Not in universe</td>\n",
              "      <td>Divorced</td>\n",
              "      <td>Construction</td>\n",
              "      <td>Precision production craft &amp; repair</td>\n",
              "      <td>White</td>\n",
              "      <td>All other</td>\n",
              "      <td>Male</td>\n",
              "      <td>Not in universe</td>\n",
              "      <td>Not in universe</td>\n",
              "      <td>Children or Armed Forces</td>\n",
              "      <td>0</td>\n",
              "      <td>0</td>\n",
              "      <td>0</td>\n",
              "      <td>Head of household</td>\n",
              "      <td>South</td>\n",
              "      <td>Arkansas</td>\n",
              "      <td>Householder</td>\n",
              "      <td>Householder</td>\n",
              "      <td>1053.55</td>\n",
              "      <td>MSA to MSA</td>\n",
              "      <td>Same county</td>\n",
              "      <td>Same county</td>\n",
              "      <td>No</td>\n",
              "      <td>Yes</td>\n",
              "      <td>1</td>\n",
              "      <td>Not in universe</td>\n",
              "      <td>United-States</td>\n",
              "      <td>United-States</td>\n",
              "      <td>United-States</td>\n",
              "      <td>Native- Born in the United States</td>\n",
              "      <td>0</td>\n",
              "      <td>Not in universe</td>\n",
              "      <td>2</td>\n",
              "      <td>52</td>\n",
              "      <td>94</td>\n",
              "      <td>- 50000.</td>\n",
              "    </tr>\n",
              "    <tr>\n",
              "      <th>2</th>\n",
              "      <td>18</td>\n",
              "      <td>Not in universe</td>\n",
              "      <td>0</td>\n",
              "      <td>0</td>\n",
              "      <td>10th grade</td>\n",
              "      <td>0</td>\n",
              "      <td>High school</td>\n",
              "      <td>Never married</td>\n",
              "      <td>Not in universe or children</td>\n",
              "      <td>Not in universe</td>\n",
              "      <td>Asian or Pacific Islander</td>\n",
              "      <td>All other</td>\n",
              "      <td>Female</td>\n",
              "      <td>Not in universe</td>\n",
              "      <td>Not in universe</td>\n",
              "      <td>Not in labor force</td>\n",
              "      <td>0</td>\n",
              "      <td>0</td>\n",
              "      <td>0</td>\n",
              "      <td>Nonfiler</td>\n",
              "      <td>Not in universe</td>\n",
              "      <td>Not in universe</td>\n",
              "      <td>Child 18+ never marr Not in a subfamily</td>\n",
              "      <td>Child 18 or older</td>\n",
              "      <td>991.95</td>\n",
              "      <td>?</td>\n",
              "      <td>?</td>\n",
              "      <td>?</td>\n",
              "      <td>Not in universe under 1 year old</td>\n",
              "      <td>?</td>\n",
              "      <td>0</td>\n",
              "      <td>Not in universe</td>\n",
              "      <td>Vietnam</td>\n",
              "      <td>Vietnam</td>\n",
              "      <td>Vietnam</td>\n",
              "      <td>Foreign born- Not a citizen of U S</td>\n",
              "      <td>0</td>\n",
              "      <td>Not in universe</td>\n",
              "      <td>2</td>\n",
              "      <td>0</td>\n",
              "      <td>95</td>\n",
              "      <td>- 50000.</td>\n",
              "    </tr>\n",
              "    <tr>\n",
              "      <th>3</th>\n",
              "      <td>9</td>\n",
              "      <td>Not in universe</td>\n",
              "      <td>0</td>\n",
              "      <td>0</td>\n",
              "      <td>Children</td>\n",
              "      <td>0</td>\n",
              "      <td>Not in universe</td>\n",
              "      <td>Never married</td>\n",
              "      <td>Not in universe or children</td>\n",
              "      <td>Not in universe</td>\n",
              "      <td>White</td>\n",
              "      <td>All other</td>\n",
              "      <td>Female</td>\n",
              "      <td>Not in universe</td>\n",
              "      <td>Not in universe</td>\n",
              "      <td>Children or Armed Forces</td>\n",
              "      <td>0</td>\n",
              "      <td>0</td>\n",
              "      <td>0</td>\n",
              "      <td>Nonfiler</td>\n",
              "      <td>Not in universe</td>\n",
              "      <td>Not in universe</td>\n",
              "      <td>Child &lt;18 never marr not in subfamily</td>\n",
              "      <td>Child under 18 never married</td>\n",
              "      <td>1758.14</td>\n",
              "      <td>Nonmover</td>\n",
              "      <td>Nonmover</td>\n",
              "      <td>Nonmover</td>\n",
              "      <td>Yes</td>\n",
              "      <td>Not in universe</td>\n",
              "      <td>0</td>\n",
              "      <td>Both parents present</td>\n",
              "      <td>United-States</td>\n",
              "      <td>United-States</td>\n",
              "      <td>United-States</td>\n",
              "      <td>Native- Born in the United States</td>\n",
              "      <td>0</td>\n",
              "      <td>Not in universe</td>\n",
              "      <td>0</td>\n",
              "      <td>0</td>\n",
              "      <td>94</td>\n",
              "      <td>- 50000.</td>\n",
              "    </tr>\n",
              "    <tr>\n",
              "      <th>4</th>\n",
              "      <td>10</td>\n",
              "      <td>Not in universe</td>\n",
              "      <td>0</td>\n",
              "      <td>0</td>\n",
              "      <td>Children</td>\n",
              "      <td>0</td>\n",
              "      <td>Not in universe</td>\n",
              "      <td>Never married</td>\n",
              "      <td>Not in universe or children</td>\n",
              "      <td>Not in universe</td>\n",
              "      <td>White</td>\n",
              "      <td>All other</td>\n",
              "      <td>Female</td>\n",
              "      <td>Not in universe</td>\n",
              "      <td>Not in universe</td>\n",
              "      <td>Children or Armed Forces</td>\n",
              "      <td>0</td>\n",
              "      <td>0</td>\n",
              "      <td>0</td>\n",
              "      <td>Nonfiler</td>\n",
              "      <td>Not in universe</td>\n",
              "      <td>Not in universe</td>\n",
              "      <td>Child &lt;18 never marr not in subfamily</td>\n",
              "      <td>Child under 18 never married</td>\n",
              "      <td>1069.16</td>\n",
              "      <td>Nonmover</td>\n",
              "      <td>Nonmover</td>\n",
              "      <td>Nonmover</td>\n",
              "      <td>Yes</td>\n",
              "      <td>Not in universe</td>\n",
              "      <td>0</td>\n",
              "      <td>Both parents present</td>\n",
              "      <td>United-States</td>\n",
              "      <td>United-States</td>\n",
              "      <td>United-States</td>\n",
              "      <td>Native- Born in the United States</td>\n",
              "      <td>0</td>\n",
              "      <td>Not in universe</td>\n",
              "      <td>0</td>\n",
              "      <td>0</td>\n",
              "      <td>94</td>\n",
              "      <td>- 50000.</td>\n",
              "    </tr>\n",
              "  </tbody>\n",
              "</table>\n",
              "</div>"
            ],
            "text/plain": [
              "   age                  class_of_worker  ...  year     target\n",
              "0   73                  Not in universe  ...    95   - 50000.\n",
              "1   58   Self-employed-not incorporated  ...    94   - 50000.\n",
              "2   18                  Not in universe  ...    95   - 50000.\n",
              "3    9                  Not in universe  ...    94   - 50000.\n",
              "4   10                  Not in universe  ...    94   - 50000.\n",
              "\n",
              "[5 rows x 42 columns]"
            ]
          },
          "metadata": {
            "tags": []
          },
          "execution_count": 17
        }
      ]
    },
    {
      "cell_type": "code",
      "metadata": {
        "id": "XvzpPKvlhpEW",
        "colab_type": "code",
        "colab": {
          "base_uri": "https://localhost:8080/",
          "height": 66
        },
        "outputId": "6a4e2430-bfcf-4377-8a4b-4c11424fbabd"
      },
      "source": [
        "df.target.value_counts()"
      ],
      "execution_count": 18,
      "outputs": [
        {
          "output_type": "execute_result",
          "data": {
            "text/plain": [
              " - 50000.    187141\n",
              " 50000+.      12382\n",
              "Name: target, dtype: int64"
            ]
          },
          "metadata": {
            "tags": []
          },
          "execution_count": 18
        }
      ]
    },
    {
      "cell_type": "markdown",
      "metadata": {
        "id": "MwqM_P2ojb6W",
        "colab_type": "text"
      },
      "source": [
        "**Note:** Dataset quite unbalanced...So we have two options:\n",
        "\n",
        "- Either do Downscaling / Upscaling; Or\n",
        "- Create a method that accounts for this imbalance in the proper way\n",
        "\n",
        "I prefer the second as we need to model the data's true nature. Advanced techniques exist (deriving from Bayesian Methods, for example), but since I know my objetive is classification, I'll focus on the binary-classification model)"
      ]
    },
    {
      "cell_type": "markdown",
      "metadata": {
        "id": "cnFYlzaaygbU",
        "colab_type": "text"
      },
      "source": [
        "**Transform year columns** as its obvious from Metadata it shouldn't be continuous"
      ]
    },
    {
      "cell_type": "code",
      "metadata": {
        "id": "idXHb_c63OV5",
        "colab_type": "code",
        "colab": {
          "base_uri": "https://localhost:8080/",
          "height": 406
        },
        "outputId": "351a530f-0f3d-48b7-9f1e-302ecadeb9a3"
      },
      "source": [
        "df.head(5)"
      ],
      "execution_count": 19,
      "outputs": [
        {
          "output_type": "execute_result",
          "data": {
            "text/html": [
              "<div>\n",
              "<style scoped>\n",
              "    .dataframe tbody tr th:only-of-type {\n",
              "        vertical-align: middle;\n",
              "    }\n",
              "\n",
              "    .dataframe tbody tr th {\n",
              "        vertical-align: top;\n",
              "    }\n",
              "\n",
              "    .dataframe thead th {\n",
              "        text-align: right;\n",
              "    }\n",
              "</style>\n",
              "<table border=\"1\" class=\"dataframe\">\n",
              "  <thead>\n",
              "    <tr style=\"text-align: right;\">\n",
              "      <th></th>\n",
              "      <th>age</th>\n",
              "      <th>class_of_worker</th>\n",
              "      <th>detailed_industry_recode</th>\n",
              "      <th>detailed_occupation_recode</th>\n",
              "      <th>education</th>\n",
              "      <th>wage_per_hour</th>\n",
              "      <th>enroll_in_edu_inst_last_wk</th>\n",
              "      <th>marital_stat</th>\n",
              "      <th>major_industry_code</th>\n",
              "      <th>major_occupation_code</th>\n",
              "      <th>race</th>\n",
              "      <th>hispanic_origin</th>\n",
              "      <th>sex</th>\n",
              "      <th>member_of_a_labor_union</th>\n",
              "      <th>reason_for_unemployment</th>\n",
              "      <th>full_or_part_time_employment_stat</th>\n",
              "      <th>capital_gains</th>\n",
              "      <th>capital_losses</th>\n",
              "      <th>dividends_from_stocks</th>\n",
              "      <th>tax_filer_stat</th>\n",
              "      <th>region_of_previous_residence</th>\n",
              "      <th>state_of_previous_residence</th>\n",
              "      <th>detailed_household_and_family_stat</th>\n",
              "      <th>detailed_household_summary_in_household</th>\n",
              "      <th>instance_weight</th>\n",
              "      <th>migration_code-change_in_msa</th>\n",
              "      <th>migration_code-change_in_reg</th>\n",
              "      <th>migration_code-move_within_reg</th>\n",
              "      <th>live_in_this_house_1_year_ago</th>\n",
              "      <th>migration_prev_res_in_sunbelt</th>\n",
              "      <th>num_persons_worked_for_employer</th>\n",
              "      <th>family_members_under_18</th>\n",
              "      <th>country_of_birth_father</th>\n",
              "      <th>country_of_birth_mother</th>\n",
              "      <th>country_of_birth_self</th>\n",
              "      <th>citizenship</th>\n",
              "      <th>own_business_or_self_employed</th>\n",
              "      <th>fill_inc_questionnaire_for_veteran's_admin</th>\n",
              "      <th>veterans_benefits</th>\n",
              "      <th>weeks_worked_in_year</th>\n",
              "      <th>year</th>\n",
              "      <th>target</th>\n",
              "    </tr>\n",
              "  </thead>\n",
              "  <tbody>\n",
              "    <tr>\n",
              "      <th>0</th>\n",
              "      <td>73</td>\n",
              "      <td>Not in universe</td>\n",
              "      <td>0</td>\n",
              "      <td>0</td>\n",
              "      <td>High school graduate</td>\n",
              "      <td>0</td>\n",
              "      <td>Not in universe</td>\n",
              "      <td>Widowed</td>\n",
              "      <td>Not in universe or children</td>\n",
              "      <td>Not in universe</td>\n",
              "      <td>White</td>\n",
              "      <td>All other</td>\n",
              "      <td>Female</td>\n",
              "      <td>Not in universe</td>\n",
              "      <td>Not in universe</td>\n",
              "      <td>Not in labor force</td>\n",
              "      <td>0</td>\n",
              "      <td>0</td>\n",
              "      <td>0</td>\n",
              "      <td>Nonfiler</td>\n",
              "      <td>Not in universe</td>\n",
              "      <td>Not in universe</td>\n",
              "      <td>Other Rel 18+ ever marr not in subfamily</td>\n",
              "      <td>Other relative of householder</td>\n",
              "      <td>1700.09</td>\n",
              "      <td>?</td>\n",
              "      <td>?</td>\n",
              "      <td>?</td>\n",
              "      <td>Not in universe under 1 year old</td>\n",
              "      <td>?</td>\n",
              "      <td>0</td>\n",
              "      <td>Not in universe</td>\n",
              "      <td>United-States</td>\n",
              "      <td>United-States</td>\n",
              "      <td>United-States</td>\n",
              "      <td>Native- Born in the United States</td>\n",
              "      <td>0</td>\n",
              "      <td>Not in universe</td>\n",
              "      <td>2</td>\n",
              "      <td>0</td>\n",
              "      <td>95</td>\n",
              "      <td>- 50000.</td>\n",
              "    </tr>\n",
              "    <tr>\n",
              "      <th>1</th>\n",
              "      <td>58</td>\n",
              "      <td>Self-employed-not incorporated</td>\n",
              "      <td>4</td>\n",
              "      <td>34</td>\n",
              "      <td>Some college but no degree</td>\n",
              "      <td>0</td>\n",
              "      <td>Not in universe</td>\n",
              "      <td>Divorced</td>\n",
              "      <td>Construction</td>\n",
              "      <td>Precision production craft &amp; repair</td>\n",
              "      <td>White</td>\n",
              "      <td>All other</td>\n",
              "      <td>Male</td>\n",
              "      <td>Not in universe</td>\n",
              "      <td>Not in universe</td>\n",
              "      <td>Children or Armed Forces</td>\n",
              "      <td>0</td>\n",
              "      <td>0</td>\n",
              "      <td>0</td>\n",
              "      <td>Head of household</td>\n",
              "      <td>South</td>\n",
              "      <td>Arkansas</td>\n",
              "      <td>Householder</td>\n",
              "      <td>Householder</td>\n",
              "      <td>1053.55</td>\n",
              "      <td>MSA to MSA</td>\n",
              "      <td>Same county</td>\n",
              "      <td>Same county</td>\n",
              "      <td>No</td>\n",
              "      <td>Yes</td>\n",
              "      <td>1</td>\n",
              "      <td>Not in universe</td>\n",
              "      <td>United-States</td>\n",
              "      <td>United-States</td>\n",
              "      <td>United-States</td>\n",
              "      <td>Native- Born in the United States</td>\n",
              "      <td>0</td>\n",
              "      <td>Not in universe</td>\n",
              "      <td>2</td>\n",
              "      <td>52</td>\n",
              "      <td>94</td>\n",
              "      <td>- 50000.</td>\n",
              "    </tr>\n",
              "    <tr>\n",
              "      <th>2</th>\n",
              "      <td>18</td>\n",
              "      <td>Not in universe</td>\n",
              "      <td>0</td>\n",
              "      <td>0</td>\n",
              "      <td>10th grade</td>\n",
              "      <td>0</td>\n",
              "      <td>High school</td>\n",
              "      <td>Never married</td>\n",
              "      <td>Not in universe or children</td>\n",
              "      <td>Not in universe</td>\n",
              "      <td>Asian or Pacific Islander</td>\n",
              "      <td>All other</td>\n",
              "      <td>Female</td>\n",
              "      <td>Not in universe</td>\n",
              "      <td>Not in universe</td>\n",
              "      <td>Not in labor force</td>\n",
              "      <td>0</td>\n",
              "      <td>0</td>\n",
              "      <td>0</td>\n",
              "      <td>Nonfiler</td>\n",
              "      <td>Not in universe</td>\n",
              "      <td>Not in universe</td>\n",
              "      <td>Child 18+ never marr Not in a subfamily</td>\n",
              "      <td>Child 18 or older</td>\n",
              "      <td>991.95</td>\n",
              "      <td>?</td>\n",
              "      <td>?</td>\n",
              "      <td>?</td>\n",
              "      <td>Not in universe under 1 year old</td>\n",
              "      <td>?</td>\n",
              "      <td>0</td>\n",
              "      <td>Not in universe</td>\n",
              "      <td>Vietnam</td>\n",
              "      <td>Vietnam</td>\n",
              "      <td>Vietnam</td>\n",
              "      <td>Foreign born- Not a citizen of U S</td>\n",
              "      <td>0</td>\n",
              "      <td>Not in universe</td>\n",
              "      <td>2</td>\n",
              "      <td>0</td>\n",
              "      <td>95</td>\n",
              "      <td>- 50000.</td>\n",
              "    </tr>\n",
              "    <tr>\n",
              "      <th>3</th>\n",
              "      <td>9</td>\n",
              "      <td>Not in universe</td>\n",
              "      <td>0</td>\n",
              "      <td>0</td>\n",
              "      <td>Children</td>\n",
              "      <td>0</td>\n",
              "      <td>Not in universe</td>\n",
              "      <td>Never married</td>\n",
              "      <td>Not in universe or children</td>\n",
              "      <td>Not in universe</td>\n",
              "      <td>White</td>\n",
              "      <td>All other</td>\n",
              "      <td>Female</td>\n",
              "      <td>Not in universe</td>\n",
              "      <td>Not in universe</td>\n",
              "      <td>Children or Armed Forces</td>\n",
              "      <td>0</td>\n",
              "      <td>0</td>\n",
              "      <td>0</td>\n",
              "      <td>Nonfiler</td>\n",
              "      <td>Not in universe</td>\n",
              "      <td>Not in universe</td>\n",
              "      <td>Child &lt;18 never marr not in subfamily</td>\n",
              "      <td>Child under 18 never married</td>\n",
              "      <td>1758.14</td>\n",
              "      <td>Nonmover</td>\n",
              "      <td>Nonmover</td>\n",
              "      <td>Nonmover</td>\n",
              "      <td>Yes</td>\n",
              "      <td>Not in universe</td>\n",
              "      <td>0</td>\n",
              "      <td>Both parents present</td>\n",
              "      <td>United-States</td>\n",
              "      <td>United-States</td>\n",
              "      <td>United-States</td>\n",
              "      <td>Native- Born in the United States</td>\n",
              "      <td>0</td>\n",
              "      <td>Not in universe</td>\n",
              "      <td>0</td>\n",
              "      <td>0</td>\n",
              "      <td>94</td>\n",
              "      <td>- 50000.</td>\n",
              "    </tr>\n",
              "    <tr>\n",
              "      <th>4</th>\n",
              "      <td>10</td>\n",
              "      <td>Not in universe</td>\n",
              "      <td>0</td>\n",
              "      <td>0</td>\n",
              "      <td>Children</td>\n",
              "      <td>0</td>\n",
              "      <td>Not in universe</td>\n",
              "      <td>Never married</td>\n",
              "      <td>Not in universe or children</td>\n",
              "      <td>Not in universe</td>\n",
              "      <td>White</td>\n",
              "      <td>All other</td>\n",
              "      <td>Female</td>\n",
              "      <td>Not in universe</td>\n",
              "      <td>Not in universe</td>\n",
              "      <td>Children or Armed Forces</td>\n",
              "      <td>0</td>\n",
              "      <td>0</td>\n",
              "      <td>0</td>\n",
              "      <td>Nonfiler</td>\n",
              "      <td>Not in universe</td>\n",
              "      <td>Not in universe</td>\n",
              "      <td>Child &lt;18 never marr not in subfamily</td>\n",
              "      <td>Child under 18 never married</td>\n",
              "      <td>1069.16</td>\n",
              "      <td>Nonmover</td>\n",
              "      <td>Nonmover</td>\n",
              "      <td>Nonmover</td>\n",
              "      <td>Yes</td>\n",
              "      <td>Not in universe</td>\n",
              "      <td>0</td>\n",
              "      <td>Both parents present</td>\n",
              "      <td>United-States</td>\n",
              "      <td>United-States</td>\n",
              "      <td>United-States</td>\n",
              "      <td>Native- Born in the United States</td>\n",
              "      <td>0</td>\n",
              "      <td>Not in universe</td>\n",
              "      <td>0</td>\n",
              "      <td>0</td>\n",
              "      <td>94</td>\n",
              "      <td>- 50000.</td>\n",
              "    </tr>\n",
              "  </tbody>\n",
              "</table>\n",
              "</div>"
            ],
            "text/plain": [
              "   age                  class_of_worker  ...  year     target\n",
              "0   73                  Not in universe  ...    95   - 50000.\n",
              "1   58   Self-employed-not incorporated  ...    94   - 50000.\n",
              "2   18                  Not in universe  ...    95   - 50000.\n",
              "3    9                  Not in universe  ...    94   - 50000.\n",
              "4   10                  Not in universe  ...    94   - 50000.\n",
              "\n",
              "[5 rows x 42 columns]"
            ]
          },
          "metadata": {
            "tags": []
          },
          "execution_count": 19
        }
      ]
    },
    {
      "cell_type": "markdown",
      "metadata": {
        "id": "NYNFQUMbwghU",
        "colab_type": "text"
      },
      "source": [
        "## Categorise data \n",
        "\n",
        "Lets convert objects into categorical values so that we can manipulate them numerically"
      ]
    },
    {
      "cell_type": "code",
      "metadata": {
        "id": "f3at83Tc69aX",
        "colab_type": "code",
        "colab": {}
      },
      "source": [
        "obj = df.select_dtypes(['object'])\n",
        "df[obj.columns] = obj.apply(lambda x: x.str.strip().replace(\" \",\"\"))"
      ],
      "execution_count": 20,
      "outputs": []
    },
    {
      "cell_type": "code",
      "metadata": {
        "id": "P_DGRLCJzaG8",
        "colab_type": "code",
        "colab": {
          "base_uri": "https://localhost:8080/",
          "height": 716
        },
        "outputId": "05dd5fa0-c643-4b10-d034-81cc3d487049"
      },
      "source": [
        "df_bkp = df.copy()\n",
        "t_df = t_df.copy()\n",
        "\n",
        "for col in df.columns:\n",
        "  if df[col].dtype == 'object':\n",
        "    df[col] = df[col].str.strip().replace(\" \",\"\").astype('category').cat.codes\n",
        "    t_df[col] = t_df[col].str.strip().replace(\" \",\"\").astype('category').cat.codes\n",
        "\n",
        "df.dtypes"
      ],
      "execution_count": 21,
      "outputs": [
        {
          "output_type": "execute_result",
          "data": {
            "text/plain": [
              "age                                             int64\n",
              "class_of_worker                                  int8\n",
              "detailed_industry_recode                        int64\n",
              "detailed_occupation_recode                      int64\n",
              "education                                        int8\n",
              "wage_per_hour                                   int64\n",
              "enroll_in_edu_inst_last_wk                       int8\n",
              "marital_stat                                     int8\n",
              "major_industry_code                              int8\n",
              "major_occupation_code                            int8\n",
              "race                                             int8\n",
              "hispanic_origin                                  int8\n",
              "sex                                              int8\n",
              "member_of_a_labor_union                          int8\n",
              "reason_for_unemployment                          int8\n",
              "full_or_part_time_employment_stat                int8\n",
              "capital_gains                                   int64\n",
              "capital_losses                                  int64\n",
              "dividends_from_stocks                           int64\n",
              "tax_filer_stat                                   int8\n",
              "region_of_previous_residence                     int8\n",
              "state_of_previous_residence                      int8\n",
              "detailed_household_and_family_stat               int8\n",
              "detailed_household_summary_in_household          int8\n",
              "instance_weight                               float64\n",
              "migration_code-change_in_msa                     int8\n",
              "migration_code-change_in_reg                     int8\n",
              "migration_code-move_within_reg                   int8\n",
              "live_in_this_house_1_year_ago                    int8\n",
              "migration_prev_res_in_sunbelt                    int8\n",
              "num_persons_worked_for_employer                 int64\n",
              "family_members_under_18                          int8\n",
              "country_of_birth_father                          int8\n",
              "country_of_birth_mother                          int8\n",
              "country_of_birth_self                            int8\n",
              "citizenship                                      int8\n",
              "own_business_or_self_employed                   int64\n",
              "fill_inc_questionnaire_for_veteran's_admin       int8\n",
              "veterans_benefits                               int64\n",
              "weeks_worked_in_year                            int64\n",
              "year                                            int64\n",
              "target                                           int8\n",
              "dtype: object"
            ]
          },
          "metadata": {
            "tags": []
          },
          "execution_count": 21
        }
      ]
    },
    {
      "cell_type": "markdown",
      "metadata": {
        "id": "dCWb4udrsHMF",
        "colab_type": "text"
      },
      "source": [
        "## Are there null / undefined values?\n",
        "\n",
        "There are a few records marked with \"$?$\" but we will treat this as a category... So I wonder if there are columns with null values or \"na\" values\n"
      ]
    },
    {
      "cell_type": "code",
      "metadata": {
        "id": "5Ej-RSZOiHhN",
        "colab_type": "code",
        "colab": {
          "base_uri": "https://localhost:8080/",
          "height": 50
        },
        "outputId": "f3f6e87c-92bf-49b5-8ee8-904fdd700924"
      },
      "source": [
        "null_columns=df.columns[df.isnull().any()]\n",
        "if len(null_columns) > 0:\n",
        "  print(df[null_columns].isnull().sum())\n",
        "else:\n",
        "  print(\"No null columns\")\n",
        "\n",
        "na_columns=df.columns[df.isna().any()]\n",
        "if len(na_columns) > 0:\n",
        "  print(df[na_columns].isna().sum())\n",
        "else:\n",
        "  print(\"No NA columns\")"
      ],
      "execution_count": 22,
      "outputs": [
        {
          "output_type": "stream",
          "text": [
            "No null columns\n",
            "No NA columns\n"
          ],
          "name": "stdout"
        }
      ]
    },
    {
      "cell_type": "markdown",
      "metadata": {
        "id": "KN2HNhaoXR40",
        "colab_type": "text"
      },
      "source": [
        "## Are there duplicates?"
      ]
    },
    {
      "cell_type": "code",
      "metadata": {
        "id": "UkoaD4elXXkJ",
        "colab_type": "code",
        "colab": {
          "base_uri": "https://localhost:8080/",
          "height": 33
        },
        "outputId": "65355784-aeeb-4ace-92ed-77735ecb98f4"
      },
      "source": [
        "if df.duplicated().sum() > 0:\n",
        "  print(df.duplicated().sum(), \" dupicated records found and dropped\")\n",
        "  df.drop_duplicates(inplace=True)"
      ],
      "execution_count": 23,
      "outputs": [
        {
          "output_type": "stream",
          "text": [
            "3229  dupicated records found and dropped\n"
          ],
          "name": "stdout"
        }
      ]
    },
    {
      "cell_type": "markdown",
      "metadata": {
        "id": "qrmdLlOUag26",
        "colab_type": "text"
      },
      "source": [
        "# Exploratory Data Analysis"
      ]
    },
    {
      "cell_type": "markdown",
      "metadata": {
        "id": "0fIco2eMgCTy",
        "colab_type": "text"
      },
      "source": [
        "## Feature Importance\n",
        "\n",
        "Start with a simple light GBM for estimating feature importance"
      ]
    },
    {
      "cell_type": "code",
      "metadata": {
        "id": "GlhxcRqehvxE",
        "colab_type": "code",
        "colab": {}
      },
      "source": [
        "model = LGBMClassifier(learning_rate=0.01, num_leaves= 33, random_state=42)\n",
        "model.fit(df.iloc[:,0:41], df.iloc[:,0])"
      ],
      "execution_count": null,
      "outputs": []
    },
    {
      "cell_type": "code",
      "metadata": {
        "id": "1Z6ARSQ9g2uc",
        "colab_type": "code",
        "colab": {}
      },
      "source": [
        "fig, ax = plt.subplots(figsize=(figsize))\n",
        "ax = sns.barplot(y=model.feature_importances_, x=df.iloc[:,0:41].columns, palette=pal)\n",
        "plt.xticks(rotation=90)"
      ],
      "execution_count": null,
      "outputs": []
    },
    {
      "cell_type": "markdown",
      "metadata": {
        "id": "zy9oRlcrsF6w",
        "colab_type": "text"
      },
      "source": [
        "**This is very strange!** in real life we know that age, although a good indicator, can't play alone such an important weight in determining someone's income. There must exist some colinearity in the data (or worse things!). Let's check:"
      ]
    },
    {
      "cell_type": "markdown",
      "metadata": {
        "id": "Kp4-7mwuoDlk",
        "colab_type": "text"
      },
      "source": [
        "## Correlation\n",
        "\n",
        "Will help us understand risks of colinearity and some features that we can get scrap. We will only consider features with moderate (>0.5), strong (>0.7) and very strong (>0.9) correlation in absolute values"
      ]
    },
    {
      "cell_type": "code",
      "metadata": {
        "id": "M9sWWoJGgA5S",
        "colab_type": "code",
        "colab": {}
      },
      "source": [
        "correlation = df.drop(['target'], axis=1).corr()\n",
        "mask = np.triu(correlation)\n",
        "with sns.axes_style(\"white\"):\n",
        "  f, ax = plt.subplots(figsize=(23,23))\n",
        "  #ax = sns.heatmap(correlation[(correlation > 0.5) | (correlation < -0.5)],\n",
        "  ax = sns.heatmap(correlation,\n",
        "              square=True,\n",
        "              vmax=1.0,\n",
        "              vmin=-1.0,\n",
        "              center=0.0,\n",
        "              cmap=\"coolwarm\",\n",
        "              linecolor='white',\n",
        "              linestyle = '--',\n",
        "              rasterized=False,\n",
        "              edgecolor='white',\n",
        "              capstyle='projecting',\n",
        "              linewidth=2,\n",
        "              mask=mask,\n",
        "              annot=False, \n",
        "              fmt=\".2f\",\n",
        "              robust=True,\n",
        "              cbar=True,\n",
        "              cbar_kws={\"location\": \"top\",\n",
        "                        'use_gridspec': False,\n",
        "                        \"label\": \"Correlation Coefficient\",\n",
        "                        'shrink': 0.8})"
      ],
      "execution_count": null,
      "outputs": []
    },
    {
      "cell_type": "markdown",
      "metadata": {
        "id": "Cvq-SgnmYkbN",
        "colab_type": "text"
      },
      "source": [
        "### Variance Inflation Factor(VIF)\n",
        "From wikipedia: VIF is the quotient of the variance in a model with multiple terms by the variance of a model with one term alone. It quantifies the severity of multicollinearity in an ordinary least squares regression analysis. It provides an index that measures how much the variance (the square of the estimate's standard deviation) of an estimated regression coefficient is increased because of collinearity.\n",
        "\n",
        "> Multicollinearity is a common phenomenon in high‐dimensional settings, in which two or more predictor variables are highly correlated [Zhao et al, 2020]( https://doi.org/10.1002/sta4.272)\n",
        "\n",
        "This is a bit of a controversial topic and \"tule of thumb\" tresholds are dangerous as pointed in [A Caution Regarding Rules of Thumb\n",
        "for Variance Inflation Factors](https://www.researchgate.net/profile/Robert_Obrien8/publication/226005307_A_Caution_Regarding_Rules_of_Thumb_for_Variance_Inflation_Factors/links/54d0f2620cf298d656695641/A-Caution-Regarding-Rules-of-Thumb-for-Variance-Inflation-Factors.pdf). The lowest VIF valuee is 1. Anything beyond 10 is extreme. Most people choose either $3$, $4$ or $5$ as treshold. We will go with $4$.\n",
        "\n",
        "❌ We have $k=41$ features. With large $k$ this would be innapropriate but there are solusions like the one proposed in [Zhao et al, 2020]( https://doi.org/10.1002/sta4.272)\n"
      ]
    },
    {
      "cell_type": "code",
      "metadata": {
        "id": "f0lMU06H6YFJ",
        "colab_type": "code",
        "colab": {}
      },
      "source": [
        "X = add_constant(df.iloc[:,0:41])\n",
        "multico_indx=pd.Series([variance_inflation_factor(X.values, i) for i in range(X.shape[1])], index=X.columns)"
      ],
      "execution_count": null,
      "outputs": []
    },
    {
      "cell_type": "code",
      "metadata": {
        "id": "xOLDo3ix-xcu",
        "colab_type": "code",
        "colab": {}
      },
      "source": [
        "sns.distplot(multico_indx, rug=True)"
      ],
      "execution_count": null,
      "outputs": []
    },
    {
      "cell_type": "code",
      "metadata": {
        "id": "UhyaWPMJfTuZ",
        "colab_type": "code",
        "colab": {}
      },
      "source": [
        "df.iloc[:,np.where((multico_indx[1:] < 4)==True)[0][:].tolist()].dtypes"
      ],
      "execution_count": null,
      "outputs": []
    },
    {
      "cell_type": "code",
      "metadata": {
        "id": "0DDSZXe3GzWf",
        "colab_type": "code",
        "colab": {}
      },
      "source": [
        "df = df.iloc[:,np.where((multico_indx[1:] < 4)==True)[0][:].tolist()]\n",
        "df['target'] = df_bkp['target'].astype('category').cat.codes"
      ],
      "execution_count": null,
      "outputs": []
    },
    {
      "cell_type": "code",
      "metadata": {
        "id": "gRmDcR1kHgkX",
        "colab_type": "code",
        "colab": {}
      },
      "source": [
        "df.head(5)"
      ],
      "execution_count": null,
      "outputs": []
    },
    {
      "cell_type": "markdown",
      "metadata": {
        "id": "EIU2HOZSqUOp",
        "colab_type": "text"
      },
      "source": [
        "### Post VIF check feature importance"
      ]
    },
    {
      "cell_type": "code",
      "metadata": {
        "id": "Lsf0R6GuqYTc",
        "colab_type": "code",
        "colab": {}
      },
      "source": [
        "model = LGBMClassifier(learning_rate=0.01, num_leaves= 33, random_state=42)\n",
        "model.fit(df.iloc[:,:-1], df.iloc[:,-1])\n",
        "\n",
        "fig, ax = plt.subplots(figsize=(figsize))\n",
        "ax = sns.barplot(y=model.feature_importances_, x=df.iloc[:,:-1].columns, palette=pal)\n",
        "plt.xticks(rotation=90)"
      ],
      "execution_count": null,
      "outputs": []
    },
    {
      "cell_type": "markdown",
      "metadata": {
        "id": "XsETv3BrskvV",
        "colab_type": "text"
      },
      "source": [
        "**That makes more sense!**"
      ]
    },
    {
      "cell_type": "markdown",
      "metadata": {
        "id": "viJ_sXsBbazN",
        "colab_type": "text"
      },
      "source": [
        "### Post VIF check correlation"
      ]
    },
    {
      "cell_type": "code",
      "metadata": {
        "id": "BgoWFDjZa5XQ",
        "colab_type": "code",
        "colab": {}
      },
      "source": [
        "correlation = df.drop(['target'], axis=1).corr()\n",
        "mask = np.triu(correlation)\n",
        "with sns.axes_style(\"white\"):\n",
        "  f, ax = plt.subplots(figsize=(23,23))\n",
        "  #ax = sns.heatmap(correlation[(correlation > 0.5) | (correlation < -0.5)],\n",
        "  ax = sns.heatmap(correlation,\n",
        "              square=True,\n",
        "              vmax=1.0,\n",
        "              vmin=-1.0,\n",
        "              center=0.0,\n",
        "              cmap=\"coolwarm\",\n",
        "              linecolor='white',\n",
        "              linestyle = '--',\n",
        "              rasterized=False,\n",
        "              edgecolor='white',\n",
        "              capstyle='projecting',\n",
        "              linewidth=2,\n",
        "              mask=mask,\n",
        "              annot=False, \n",
        "              fmt=\".2f\",\n",
        "              robust=True,\n",
        "              cbar=True,\n",
        "              cbar_kws={\"location\": \"top\",\n",
        "                        'use_gridspec': False,\n",
        "                        \"label\": \"Correlation Coefficient\",\n",
        "                        'shrink': 0.8})"
      ],
      "execution_count": null,
      "outputs": []
    },
    {
      "cell_type": "markdown",
      "metadata": {
        "id": "y8QFBsDKGQst",
        "colab_type": "text"
      },
      "source": [
        "## Remove not-so-important features with moderate correaltion or higher"
      ]
    },
    {
      "cell_type": "markdown",
      "metadata": {
        "id": "Pjw4hlzgKvPB",
        "colab_type": "text"
      },
      "source": [
        "It Looks like country of birth from father and mother are moderately correlated with citizenship. Since we can (almost) always derive someone's citizenship from their parents' place of birth and assuming parents' nationality do not play an imediate factor in someone's wages (setting apart deeper social analyses) and considering neither parent's origin appears as a crucial feature in our Light GBM model, we will remove these features to simplify our model further"
      ]
    },
    {
      "cell_type": "code",
      "metadata": {
        "id": "zW915kP1Je6j",
        "colab_type": "code",
        "colab": {}
      },
      "source": [
        "df.drop(columns=['country_of_birth_father'], inplace=True)\n",
        "df.drop(columns=['country_of_birth_mother'], inplace=True)"
      ],
      "execution_count": null,
      "outputs": []
    },
    {
      "cell_type": "markdown",
      "metadata": {
        "id": "sXcuJKlhKJHK",
        "colab_type": "text"
      },
      "source": [
        "There's a moderate linear relationship between the industry of a person with its ocupation and the number of persons worked for employer. Althought these shouldn't affect our model aggressively, we can infer one by the other (for instance: we assume that someone's occupation is highly related to its industry and that its industry can tell information about the number of people per employer. Think about Social Media industry versus Manufacuring plant.)"
      ]
    },
    {
      "cell_type": "code",
      "metadata": {
        "id": "mCp9dxWcJ-ky",
        "colab_type": "code",
        "colab": {}
      },
      "source": [
        "df.drop(columns=['detailed_occupation_recode'], inplace=True)\n",
        "df.drop(columns=['num_persons_worked_for_employer'], inplace=True)"
      ],
      "execution_count": null,
      "outputs": []
    },
    {
      "cell_type": "markdown",
      "metadata": {
        "id": "BaO4q8ZtLBiT",
        "colab_type": "text"
      },
      "source": [
        "In the USA, similar to the UK and other countries like Switzerland, someone's marital status will change the tax code. So we can infer the former by the later and can get rid of another feature with moderate correlation"
      ]
    },
    {
      "cell_type": "code",
      "metadata": {
        "id": "QksnpSBoLBJF",
        "colab_type": "code",
        "colab": {}
      },
      "source": [
        "df.drop(columns=['marital_stat'], inplace=True)"
      ],
      "execution_count": null,
      "outputs": []
    },
    {
      "cell_type": "code",
      "metadata": {
        "id": "mLtCrvMKJu0n",
        "colab_type": "code",
        "colab": {}
      },
      "source": [
        "correlation = df.drop(['target'], axis=1).corr()\n",
        "mask = np.triu(correlation)\n",
        "with sns.axes_style(\"white\"):\n",
        "  f, ax = plt.subplots(figsize=(23,23))\n",
        "  ax = sns.heatmap(correlation[(correlation > 0.5) | (correlation < -0.5)],\n",
        "  #ax = sns.heatmap(correlation,\n",
        "              square=True,\n",
        "              vmax=1.0,\n",
        "              vmin=-1.0,\n",
        "              center=0.0,\n",
        "              cmap=\"coolwarm\",\n",
        "              linecolor='white',\n",
        "              linestyle = '--',\n",
        "              rasterized=False,\n",
        "              edgecolor='white',\n",
        "              capstyle='projecting',\n",
        "              linewidth=2,\n",
        "              mask=mask,\n",
        "              annot=False, \n",
        "              fmt=\".2f\",\n",
        "              robust=True,\n",
        "              cbar=True,\n",
        "              cbar_kws={\"location\": \"top\",\n",
        "                        'use_gridspec': False,\n",
        "                        \"label\": \"Correlation Coefficient\",\n",
        "                        'shrink': 0.8})"
      ],
      "execution_count": null,
      "outputs": []
    },
    {
      "cell_type": "markdown",
      "metadata": {
        "id": "fTGf-T1TNnxY",
        "colab_type": "text"
      },
      "source": [
        "**NICE!** *So no correlations greater than 0.5 or less than -0.5. Let's plot the rest:*"
      ]
    },
    {
      "cell_type": "code",
      "metadata": {
        "id": "JJEQQMOaNyiI",
        "colab_type": "code",
        "colab": {}
      },
      "source": [
        "correlation = df.drop(['target'], axis=1).corr()\n",
        "mask = np.triu(correlation)\n",
        "with sns.axes_style(\"white\"):\n",
        "  f, ax = plt.subplots(figsize=(23,23))\n",
        "  #ax = sns.heatmap(correlation[(correlation > 0.5) | (correlation < -0.5)],\n",
        "  ax = sns.heatmap(correlation,\n",
        "              square=True,\n",
        "              vmax=1.0,\n",
        "              vmin=-1.0,\n",
        "              center=0.0,\n",
        "              cmap=\"coolwarm\",\n",
        "              linecolor='white',\n",
        "              linestyle = '--',\n",
        "              rasterized=False,\n",
        "              edgecolor='white',\n",
        "              capstyle='projecting',\n",
        "              linewidth=2,\n",
        "              mask=mask,\n",
        "              annot=True,\n",
        "              fmt=\".1f\",\n",
        "              robust=True,\n",
        "              cbar=True,\n",
        "              annot_kws={\"size\": 16},\n",
        "              cbar_kws={\"location\": \"top\",\n",
        "                        'use_gridspec': False,\n",
        "                        \"label\": \"Correlation Coefficient\",\n",
        "                        'shrink': 0.8})"
      ],
      "execution_count": null,
      "outputs": []
    },
    {
      "cell_type": "markdown",
      "metadata": {
        "id": "tnPXQk5OwUF2",
        "colab_type": "text"
      },
      "source": [
        "## Further EDA\n",
        "Let's explore our data a little further. Then perhaps come up with a simple hypothesis to test and a prediction model"
      ]
    },
    {
      "cell_type": "code",
      "metadata": {
        "id": "-r57JdQmObaN",
        "colab_type": "code",
        "colab": {}
      },
      "source": [
        "# Lets use the non categorized dataset for some analyses\n",
        "eda = df_bkp.loc[:,df.columns.tolist()]"
      ],
      "execution_count": null,
      "outputs": []
    },
    {
      "cell_type": "markdown",
      "metadata": {
        "id": "8VO_v-94wXN_",
        "colab_type": "text"
      },
      "source": [
        "## Distplot"
      ]
    },
    {
      "cell_type": "markdown",
      "metadata": {
        "id": "bEup2KZ-a1vE",
        "colab_type": "text"
      },
      "source": [
        "**Warm up:** Age was pointed as an important feature. Do we have a population that is equally distirbuted in terms of age? \n",
        "\n",
        "No. We can see that 50% of the population is 35 years old or younger. We have the next 30% at circa 60 years old or less. We can also confirm that by fitting a log-gama distribution over the data (second chart, black line).\n",
        "\n",
        "By the manifest we know this data comprises the years 1994 and 1995. Therefore, **we can do some fact checking**: we see that indeed between 1990 and 2000 the median age of the United States was around 35 years old (despite the fact the census data only includes the Economic Active Population)\n",
        "\n",
        "<a href=\"https://www.statista.com/statistics/241494/median-age-of-the-us-population/\" rel=\"nofollow\"><img src=\"https://www.statista.com/graphic/1/241494/median-age-of-the-us-population.jpg\" alt=\"Statistic: Median age of the resident population of the United States from 1960 to 2019 | Statista\" style=\"width: 100%; height: auto !important; max-width:1000px;-ms-interpolation-mode: bicubic;\"/></a><br />Find more statistics at  <a href=\"https://www.statista.com\" rel=\"nofollow\">Statista</a>"
      ]
    },
    {
      "cell_type": "code",
      "metadata": {
        "id": "NOob7R0RrIGm",
        "colab_type": "code",
        "colab": {}
      },
      "source": [
        "# Bimodal data, 50% of population less than 35yo\n",
        "fig, ax = plt.subplots(2, 1, figsize=figsize)\n",
        "kwargs = {'cumulative': True}\n",
        "\n",
        "g1 = sns.distplot(eda['age'], hist_kws=kwargs, kde_kws=kwargs, ax=ax[0], axlabel=None,\n",
        "                  fit=stats.gamma, bins=10)\n",
        "g2 = sns.distplot(eda['age'], rug=True, ax=ax[1], fit=stats.loggamma)"
      ],
      "execution_count": null,
      "outputs": []
    },
    {
      "cell_type": "markdown",
      "metadata": {
        "id": "OY2TxWHHYH_m",
        "colab_type": "text"
      },
      "source": [
        "How about the target by age? We can see that 50% of those earning $< 50$K are around 30~35 years old or younger. On the other hand, 50% of those earning $>50$K are older than 45 years old."
      ]
    },
    {
      "cell_type": "code",
      "metadata": {
        "id": "b3HHmKThUhFL",
        "colab_type": "code",
        "colab": {}
      },
      "source": [
        "fig, ax = plt.subplots(figsize=(figsize))\n",
        "g = sns.boxplot(y='age', x='target', data=eda, palette=pal)\n",
        "plt.xticks(rotation=0)"
      ],
      "execution_count": null,
      "outputs": []
    },
    {
      "cell_type": "markdown",
      "metadata": {
        "id": "aMY6WpFxtWiU",
        "colab_type": "text"
      },
      "source": [
        "As expected, **age** will play a role in our predictions. Common knowledge tells us that, in rare expections, someone who's starting their career will earn less than someone at more senior levels (usually a consequence of ageing). Likewise, retired people tend to earn less than those who are economically active.  This is a straight-forward assumption. **So let's try some more involved hypothesis without looking into the data.**\n"
      ]
    },
    {
      "cell_type": "markdown",
      "metadata": {
        "id": "xbZeEjDHcrS1",
        "colab_type": "text"
      },
      "source": [
        "# Hypothesis Test 1: Constructors vs Educators"
      ]
    },
    {
      "cell_type": "markdown",
      "metadata": {
        "id": "n8h8chOXcuEa",
        "colab_type": "text"
      },
      "source": [
        "**Let's pretend we have some questions and distill the following hypothesis without looking into the data (only using statistics)**\n",
        "\n",
        "\"There's a better chance of seeing more *Construction* workers among the top earners in comparison to *Education* workers\"\n",
        "\n",
        ">$H_0: \\, \\, $ Equal chances of *Construction* workers and *Education* workers to earn +50K  ($\\theta=0.5$)    \n",
        ">$H_1: \\, \\, $ There's a higher chance of *Construction* workers to b earning earning  +50K versus *Education* workers ($\\theta > 0.5$)  \n",
        "\n",
        "\n",
        "Where $H_0$ is our null hypothesis and $H_1$ is our alternative hypothesis, our test will be conducted at a significance level of 5%\n",
        "\n",
        "\n",
        "🚀 Let's ignore EDA and answer this with the right level of confidence in a statistical way\n",
        "\n"
      ]
    },
    {
      "cell_type": "code",
      "metadata": {
        "id": "YnNdR8JBfjRu",
        "colab_type": "code",
        "colab": {}
      },
      "source": [
        "# Let's first compute the proportion of construction workers and educators among the top earners\n",
        "test_statistic = eda[(eda.major_industry_code==\"Construction\")].groupby(\"target\").count().T.reset_index().iloc[:,0:3].iloc[0][2]\n",
        "complement = eda[(eda.major_industry_code==\"Education\")].groupby(\"target\").count().T.reset_index().iloc[:,0:3].iloc[0][2]\n",
        "\n",
        "# How many observations do we have in total\n",
        "N = test_statistic+complement\n",
        "\n",
        "# And for each of our target observations\n",
        "print(\"Total people earning +50K = \", N, test_statistic+complement==N)\n",
        "print(\"--- construction =\", test_statistic)\n",
        "print(\"--- education =\", complement)"
      ],
      "execution_count": null,
      "outputs": []
    },
    {
      "cell_type": "markdown",
      "metadata": {
        "id": "5_vlg6-Fi8XT",
        "colab_type": "text"
      },
      "source": [
        "**To simplify, we can model this as a binomial distribution** (seeing construction workers in the high earning group is considered success)\n",
        "\n",
        "*Level = 5%*:  Decreasing this will decrease our critical region (region where we fail\n",
        " o reject the null hypothesis if the p-value falls within)\n",
        "\n",
        "*p=0.5:*  We want to test if the propability of seeing constructors and educators are the same"
      ]
    },
    {
      "cell_type": "code",
      "metadata": {
        "id": "iSlwiznwrjYo",
        "colab_type": "code",
        "colab": {}
      },
      "source": [
        "level=0.05\n",
        "p=0.5"
      ],
      "execution_count": null,
      "outputs": []
    },
    {
      "cell_type": "code",
      "metadata": {
        "id": "Iy8OKDaMjYAW",
        "colab_type": "code",
        "colab": {}
      },
      "source": [
        "print(f\"Within the 50K+ target we have seen {N} constructors and educators\")\n",
        "print(f\"{test_statistic} of them are in the Construction Sector ({round(test_statistic/N,2)*100}%)\\n\")\n",
        "print(f\"\\nH0 : The proportion of consutrction workers as top earners is the same as educators (param = {p})\")\n",
        "print(f\"H1 : There are fewer construction workers earning 50K+ than educators (param < {p})\\n\")\n",
        "\n",
        "%time p_value = [stats.binom_test(x, N, p=0.5, alternative='greater') for x in range(test_statistic)]\n",
        "\n",
        "print(\"\\n\\tp-value\", p_value[0])\n",
        "\n",
        "print(\"\\n\", div)\n",
        "if p_value[0] < level:\n",
        "  print('''\\nTHEREFORE We reject the null hypothesis H0.\n",
        "  There is enough evidence at 5% level of significance to suggest that \n",
        "  Considering only educators and constructors,\n",
        "  the observation is not due to chance\n",
        "  \\n>> Constructors and Educators are not equally likely among the top earners\\n''')\n",
        "else:\n",
        "  print('''\\nTHEREFORE We FAIL to reject the null hypotehesis H0.\n",
        "  There is enough evidence at 5% level of significance to suggest that \n",
        "  Considering only educators and constructors,\n",
        "  the observation is not due to chance\n",
        "  \\n>> constructors and educators are balanced as top earners\\n''')\n",
        "print(div)\n"
      ],
      "execution_count": null,
      "outputs": []
    },
    {
      "cell_type": "markdown",
      "metadata": {
        "id": "DJ9jUkGb3iyL",
        "colab_type": "text"
      },
      "source": [
        "# Hypothesis 2: What if we compare Education against Entertainment workers? "
      ]
    },
    {
      "cell_type": "markdown",
      "metadata": {
        "id": "r0vBvSbF39yZ",
        "colab_type": "text"
      },
      "source": [
        "**Let's distill the following hypothesis:**\n",
        "\n",
        "\"US is the land of Holywood and we know many people don't have access to good education. So Education workers are less prone to be among top earners (50K+) than Entertainment workers\". \n",
        "\n",
        ">$H_0: \\, \\, $ Equal chance of *Education* workers earning  +50K,as *Educators* workers   ($\\theta=0.5$)    \n",
        ">$H_1: \\, \\, $ There's a lower chance of seeing *Education* workers earning  +50K in comparison to *Entertainment* workers ($\\theta < 0.5$)  \n",
        "\n",
        "\n",
        "Once again, $H_0$ is our null hypothesis and $H_1$ is our alternative hypothesis, our test will be conducted at a significance level of 5%\n",
        "\n",
        "\n",
        "🚀 No EDA, yes Stats.\n",
        "\n"
      ]
    },
    {
      "cell_type": "code",
      "metadata": {
        "id": "QGB5DDIU5hSu",
        "colab_type": "code",
        "colab": {}
      },
      "source": [
        "# Let's first compute the proportion of construction workers and educators among the top earners\n",
        "test_statistic = eda[(eda.major_industry_code==\"Education\")].groupby(\"target\").count().T.reset_index().iloc[:,0:3].iloc[0][2]\n",
        "complement =  eda[(eda.major_industry_code==\"Entertainment\")].groupby(\"target\").count().T.reset_index().iloc[:,0:3].iloc[0][2]\n",
        "\n",
        "# How many observations do we have in total\n",
        "N = test_statistic+complement\n",
        "print(\"Total people earning +50K = \", N, test_statistic+complement==N)\n",
        "print(\"--- Education =\", test_statistic)\n",
        "print(\"--- Entertainment =\", complement)"
      ],
      "execution_count": null,
      "outputs": []
    },
    {
      "cell_type": "code",
      "metadata": {
        "id": "A0OpBkDt5mbt",
        "colab_type": "code",
        "colab": {}
      },
      "source": [
        "level=0.05\n",
        "p=0.5"
      ],
      "execution_count": null,
      "outputs": []
    },
    {
      "cell_type": "code",
      "metadata": {
        "id": "Y97OkBA25oU8",
        "colab_type": "code",
        "colab": {}
      },
      "source": [
        "print(f\"Within the 50K+ target we have seen {N} Educators and Entertainers\")\n",
        "print(f\"{test_statistic} of them are in the Educators Sector ({round(test_statistic/N,2)*100}%)\\n\")\n",
        "print(f\"\\nH0 : The proportion of Educators workers as top earners is the same as Entertainers (param = {p})\")\n",
        "print(f\"H1 : There are fewer Education workers earning 50K+ than Entertainers (param < {p})\\n\")\n",
        "\n",
        "%time p_value = [stats.binom_test(x, N, p=0.5, alternative='less') for x in range(test_statistic)]\n",
        "\n",
        "print(\"\\n\\tp-value\", p_value[0])\n",
        "\n",
        "print(\"\\n\", div)\n",
        "\n",
        "if p_value[0] < level:\n",
        "  print('''\\nTHEREFORE We reject the null hypothesis H0.\n",
        "  There is enough evidence at 5% level of significance to suggest that,\n",
        "  Considering only Educators and Entertainers,\n",
        "  the observation is not due to chance\n",
        "  \\n>> there are more Educators than Entertainers in the top earners\\n''')\n",
        "else:\n",
        "  print('''\\nTHEREFORE We FAIL to reject the null hypotehesis H0.\n",
        "  There is enough evidence at 5% level of significance to suggest that \n",
        "  the observation is not due to chance\n",
        "  \\n>> Educators and Entertainers are balanced among top earners\\n''')\n",
        "print(div)\n"
      ],
      "execution_count": null,
      "outputs": []
    },
    {
      "cell_type": "markdown",
      "metadata": {
        "id": "P5L7rDOPTUr8",
        "colab_type": "text"
      },
      "source": [
        "## Machine Learning"
      ]
    },
    {
      "cell_type": "markdown",
      "metadata": {
        "id": "YA-pfXBT1Ko4",
        "colab_type": "text"
      },
      "source": [
        "## Split Train into Train (70%) & Validation (30%)"
      ]
    },
    {
      "cell_type": "code",
      "metadata": {
        "id": "IF05nk2S26Jh",
        "colab_type": "code",
        "colab": {}
      },
      "source": [
        "df.dtypes"
      ],
      "execution_count": null,
      "outputs": []
    },
    {
      "cell_type": "code",
      "metadata": {
        "id": "_I7O9FDaVfKn",
        "colab_type": "code",
        "colab": {}
      },
      "source": [
        "t_df[df.columns].dtypes"
      ],
      "execution_count": null,
      "outputs": []
    },
    {
      "cell_type": "code",
      "metadata": {
        "id": "n-CXifb6OTM_",
        "colab_type": "code",
        "colab": {}
      },
      "source": [
        "X = df.iloc[:,:-1]\n",
        "y = df.iloc[:,-1]\n",
        "\n",
        "xtrain, xvalid, ytrain, yvalid = train_test_split(X, y, test_size=0.3, random_state=42)"
      ],
      "execution_count": null,
      "outputs": []
    },
    {
      "cell_type": "markdown",
      "metadata": {
        "id": "05pT_ozRBiO4",
        "colab_type": "text"
      },
      "source": [
        "## XGBOOST\n",
        "Please note this is not the Scikit-learn API but the python API: https://xgboost.readthedocs.io/en/latest/python/python_intro.html which provides better support for GPUs"
      ]
    },
    {
      "cell_type": "code",
      "metadata": {
        "id": "ajZy3Fpw58mx",
        "colab_type": "code",
        "colab": {}
      },
      "source": [
        "# instantiate params\n",
        "params = {}\n",
        "\n",
        "# general params\n",
        "general_params = {'silent': 1,\n",
        "                  'lambda': 0.02,\n",
        "                  'learning_rate': 0.07,\n",
        "                  'max_depth': 16}\n",
        "params.update(general_params)\n",
        "\n",
        "# booster params\n",
        "n_gpus = 1  # change this to -1 to use all GPUs available or 0 to use the CPU\n",
        "booster_params = {}\n",
        "\n",
        "if n_gpus != 0:\n",
        "    booster_params['tree_method'] = 'gpu_hist'\n",
        "    booster_params['n_gpus'] = n_gpus   \n",
        "params.update(booster_params)\n",
        "\n",
        "# learning task params\n",
        "learning_task_params = {}\n",
        "learning_task_params['eval_metric'] = ['logloss']\n",
        "learning_task_params['objective'] = 'reg:logistic'\n",
        "\n",
        "params.update(learning_task_params)"
      ],
      "execution_count": null,
      "outputs": []
    },
    {
      "cell_type": "code",
      "metadata": {
        "id": "Kn66QJG0Fdv2",
        "colab_type": "code",
        "colab": {}
      },
      "source": [
        "model = XGBClassifier(**params, n_estimators=1000, early_stopping_rounds=10, verbose=2)"
      ],
      "execution_count": null,
      "outputs": []
    },
    {
      "cell_type": "code",
      "metadata": {
        "id": "Hc8lKhroU0Ed",
        "colab_type": "code",
        "colab": {}
      },
      "source": [
        "print(\"Train...\")\n",
        "%time model.fit(xtrain, ytrain)\n",
        "\n",
        "print(\"\\nPredict (Validation)...\")\n",
        "%time y_pred = model.predict(xvalid)\n",
        "predictions=[round(value) for value in y_pred]"
      ],
      "execution_count": null,
      "outputs": []
    },
    {
      "cell_type": "markdown",
      "metadata": {
        "id": "Lym7UBXmglKU",
        "colab_type": "text"
      },
      "source": [
        "### Prediction on Validation Set"
      ]
    },
    {
      "cell_type": "code",
      "metadata": {
        "id": "Hv76HTFqgr3C",
        "colab_type": "code",
        "colab": {}
      },
      "source": [
        "# This is how many records we have in the validation set\n",
        "yvalid.value_counts()"
      ],
      "execution_count": null,
      "outputs": []
    },
    {
      "cell_type": "code",
      "metadata": {
        "id": "w_PwBuiWU3B_",
        "colab_type": "code",
        "colab": {}
      },
      "source": [
        "accuracy = accuracy_score(yvalid, predictions)\n",
        "print(\"Accuracy: %.2f%%\" % (accuracy * 100.0))\n",
        "\n",
        "rmse = np.sqrt(mean_squared_error(yvalid, y_pred))\n",
        "print(\"RMSE: %f\" % (rmse))"
      ],
      "execution_count": null,
      "outputs": []
    },
    {
      "cell_type": "code",
      "metadata": {
        "id": "Ct90B0kRgYnX",
        "colab_type": "code",
        "colab": {}
      },
      "source": [
        "with sns.axes_style(\"white\"):\n",
        "  f, ax = plt.subplots(figsize=(13,13))\n",
        "  ax = sns.heatmap(confusion_matrix(yvalid, predictions),\n",
        "              square=True,\n",
        "              center=0.0,\n",
        "              cmap=\"coolwarm\",\n",
        "              linecolor='white',\n",
        "              linestyle = '--',\n",
        "              rasterized=False,\n",
        "              edgecolor='white',\n",
        "              capstyle='projecting',\n",
        "              linewidth=2,\n",
        "              annot=True, \n",
        "              fmt=\"d\",\n",
        "              robust=True,\n",
        "              cbar=False,\n",
        "              yticklabels=[\"-50K\", \"50K+\"],\n",
        "              xticklabels=[\"-50K\", \"50K+\"],\n",
        "              annot_kws={'fontsize': 17},\n",
        "              cbar_kws={\"location\": \"top\",\n",
        "                        'use_gridspec': False,\n",
        "                        \"label\": \"Correlation Coefficient\",\n",
        "                        'shrink': 0.8})\n",
        "\n",
        "plt.suptitle(\"\\nConfusion Matrix on VALIDATION Set\", fontsize=27)"
      ],
      "execution_count": null,
      "outputs": []
    },
    {
      "cell_type": "code",
      "metadata": {
        "id": "k_F4hpuYid4j",
        "colab_type": "code",
        "colab": {}
      },
      "source": [
        "print(classification_report(yvalid,predictions))"
      ],
      "execution_count": null,
      "outputs": []
    },
    {
      "cell_type": "markdown",
      "metadata": {
        "id": "VmcIXC4EghZ4",
        "colab_type": "text"
      },
      "source": [
        "\n",
        "### Prediction on Test Set"
      ]
    },
    {
      "cell_type": "code",
      "metadata": {
        "id": "iw3BmnephAO4",
        "colab_type": "code",
        "colab": {}
      },
      "source": [
        "# This is how many values we have in the Test Set\n",
        "t_df.iloc[:,-1].value_counts()"
      ],
      "execution_count": null,
      "outputs": []
    },
    {
      "cell_type": "code",
      "metadata": {
        "id": "uTo4EyoXSsgx",
        "colab_type": "code",
        "colab": {}
      },
      "source": [
        "t_df[df.columns].dtypes == df.dtypes"
      ],
      "execution_count": null,
      "outputs": []
    },
    {
      "cell_type": "code",
      "metadata": {
        "id": "3lBjPE0TVKvP",
        "colab_type": "code",
        "colab": {}
      },
      "source": [
        "print(\"\\nPredict (Test)...\")\n",
        "\n",
        "y_pred=model.predict(t_df[df.columns].iloc[:,:-1])\n",
        "predictions=[round(value) for value in y_pred]\n",
        "\n",
        "accuracy = accuracy_score(t_df.iloc[:,-1], predictions)\n",
        "print(\"Accuracy: %.2f%%\" % (accuracy * 100.0))\n",
        "\n",
        "rmse = np.sqrt(mean_squared_error(t_df.iloc[:,-1], y_pred))\n",
        "print(\"RMSE: %f\" % (rmse))"
      ],
      "execution_count": null,
      "outputs": []
    },
    {
      "cell_type": "code",
      "metadata": {
        "id": "Audt9vFKb0yG",
        "colab_type": "code",
        "colab": {}
      },
      "source": [
        "with sns.axes_style(\"white\"):\n",
        "  f, ax = plt.subplots(figsize=(13,13))\n",
        "  ax = sns.heatmap(confusion_matrix(t_df.iloc[:,-1], predictions),\n",
        "              square=True,\n",
        "              center=0.0,\n",
        "              cmap=\"coolwarm\",\n",
        "              linecolor='white',\n",
        "              linestyle = '--',\n",
        "              rasterized=False,\n",
        "              edgecolor='white',\n",
        "              capstyle='projecting',\n",
        "              linewidth=2,\n",
        "              annot=True, \n",
        "              fmt=\"d\",\n",
        "              robust=True,\n",
        "              cbar=False,\n",
        "              yticklabels=[\"-50K\", \"50K+\"],\n",
        "              xticklabels=[\"-50K\", \"50K+\"],\n",
        "              annot_kws={'fontsize': 17},\n",
        "              cbar_kws={\"location\": \"top\",\n",
        "                        'use_gridspec': False,\n",
        "                        \"label\": \"Correlation Coefficient\",\n",
        "                        'shrink': 0.8})\n",
        "\n",
        "plt.suptitle(\"\\nConfusion Matrix on Test Set\", fontsize=27)"
      ],
      "execution_count": null,
      "outputs": []
    },
    {
      "cell_type": "code",
      "metadata": {
        "id": "Ol9dGW-8hVCm",
        "colab_type": "code",
        "colab": {}
      },
      "source": [
        "prob_xgboost = model.predict_proba(X)"
      ],
      "execution_count": null,
      "outputs": []
    },
    {
      "cell_type": "code",
      "metadata": {
        "id": "6MA23mtZitN2",
        "colab_type": "code",
        "colab": {}
      },
      "source": [
        "print(classification_report(t_df.iloc[:,-1],predictions))"
      ],
      "execution_count": null,
      "outputs": []
    },
    {
      "cell_type": "markdown",
      "metadata": {
        "id": "TlKpvydETNAZ",
        "colab_type": "text"
      },
      "source": [
        "## SVM"
      ]
    },
    {
      "cell_type": "code",
      "metadata": {
        "id": "quEfUatvVc_6",
        "colab_type": "code",
        "colab": {}
      },
      "source": [
        "X = df.iloc[:,:-1]\n",
        "y = df.iloc[:,-1]\n",
        "\n",
        "xtrain, xvalid, ytrain, yvalid = train_test_split(X, y, test_size=0.3, random_state=42)\n",
        "scaler = Normalizer().fit(xtrain)\n",
        "\n",
        "params = {'C': [0.1, 1, 100],\n",
        "          'kernel': ['linear'],\n",
        "          'gamma': [0.1, 0.01],\n",
        " }\n",
        "grid = GridSearchCV(SVC(), param_grid=params)\n",
        "grid.fit(xtrain, ytrain)\n",
        "\n",
        "print(grid.best_params_)\n",
        "print(grid.best_estimator_)\n",
        "\n",
        "print(\"\\nPredict (Validation)...\")\n",
        "y_pred=svc_model.predict(xvalid)\n",
        "predictions=[round(value) for value in y_pred]\n",
        "\n",
        "accuracy = accuracy_score(yvalid, predictions)\n",
        "print(\"Accuracy: %.2f%%\" % (accuracy * 100.0))\n",
        "\n",
        "rmse = np.sqrt(mean_squared_error(yvalid, y_pred))\n",
        "print(\"RMSE: %f\" % (rmse))\n",
        "\n",
        "\n",
        "print(\"\\nPredict (Test)...\")\n",
        "y_pred=svc_model.predict(t_df.iloc[:,:-1])\n",
        "predictions=[round(value) for value in y_pred]\n",
        "\n",
        "accuracy = accuracy_score(t_df.iloc[:,-1], predictions)\n",
        "print(\"Accuracy: %.2f%%\" % (accuracy * 100.0))\n",
        "\n",
        "rmse = np.sqrt(mean_squared_error(t_df.iloc[:,-1], y_pred))\n",
        "print(\"RMSE: %f\" % (rmse))"
      ],
      "execution_count": null,
      "outputs": []
    },
    {
      "cell_type": "markdown",
      "metadata": {
        "id": "fLq9nLNthPDO",
        "colab_type": "text"
      },
      "source": [
        "## Stacking"
      ]
    },
    {
      "cell_type": "code",
      "metadata": {
        "id": "KPPHwFf__BJ2",
        "colab_type": "code",
        "colab": {}
      },
      "source": [
        ""
      ],
      "execution_count": null,
      "outputs": []
    },
    {
      "cell_type": "markdown",
      "metadata": {
        "id": "OT3-GY_SYwMi",
        "colab_type": "text"
      },
      "source": [
        "#THE END ✌\n",
        "\n",
        "\n",
        "**Some questions to reflect upon:**\n",
        "\n",
        "1. **Normalise / scale the data?**\n",
        "A: SVM exploits distances and similarities from large margins so it needs some sort of scaling to avoid creating support vectors that are wrongfully importance. I chose Normalisation because it uses 'l2' norm and makes the data resemble a gaussian distribution. This form of scaling is good for the linear kernel. XGBoost is a tree based ensemble, which is scale invariant, so it doesn't require scaling. \n",
        "\n",
        "2. **Why not oversample / downsample?**\n",
        "A: Becuase I prefer modelling upon the true nature of the data choosing modules that are less sensitive to that issue\n",
        "\n",
        "3. **No feature engineering?**\n",
        "A: We have a dataset that is not very large and it is not showing signs of overfitting given the results in the validation and test sets. With 41 features and less than 200K training examples, feature engineering might be overkill and lead to overfitting. It's better to first come up with a good model. The metadata states: *Probability for the label '- 50000' : 93.80% *and *Probability for the label '50000+' : 6.20%*. We have surpassed that score on our first model by making the right assumptions / treating the data. \n",
        "\n",
        "5. **More EDA?**\n",
        "A: Since I knew the objective was classification over a linearly-separable setting, I focused on EDA for model preparation rather than trying to understand macroeconomy. There are several questions to ask (more hypothesis) such as the relationship between race, sex and wage. Wether citizenship is related to industry, etc.... it depends on the objetive of the analysis.\n",
        "\n",
        "6. **Deep Learning?**\n",
        "A: Overkill for 200,000 linearly separable training examples. This is a rather small dataset and we can achieve good performance (how much is good enough?) with XgBoost straightaway\n",
        "\n",
        "7. **Future work? **A: Defintely. There are so many ways to improve this notebook. More experiments, more models, more EDAs.... In short, there are many possibilities to explore"
      ]
    },
    {
      "cell_type": "code",
      "metadata": {
        "id": "v_NkoEMsocX5",
        "colab_type": "code",
        "colab": {}
      },
      "source": [
        ""
      ],
      "execution_count": null,
      "outputs": []
    }
  ]
}