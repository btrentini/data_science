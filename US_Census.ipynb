{
  "nbformat": 4,
  "nbformat_minor": 0,
  "metadata": {
    "colab": {
      "name": "US Census.ipynb",
      "provenance": [],
      "private_outputs": true,
      "machine_shape": "hm",
      "authorship_tag": "ABX9TyMeJxm+Kw2m0tH21wYnC5cR",
      "include_colab_link": true
    },
    "kernelspec": {
      "name": "python3",
      "display_name": "Python 3"
    },
    "accelerator": "GPU"
  },
  "cells": [
    {
      "cell_type": "markdown",
      "metadata": {
        "id": "view-in-github",
        "colab_type": "text"
      },
      "source": [
        "<a href=\"https://colab.research.google.com/github/btrentini/data_science/blob/master/US_Census.ipynb\" target=\"_parent\"><img src=\"https://colab.research.google.com/assets/colab-badge.svg\" alt=\"Open In Colab\"/></a>"
      ]
    },
    {
      "cell_type": "markdown",
      "metadata": {
        "id": "81CfsK3CSLmL",
        "colab_type": "text"
      },
      "source": [
        "#US Census Data Analysis\n",
        "\n",
        "- Extract and Clean dataset from http://thomasdata.s3.amazonaws.com/ds/us_census_full.zip\n",
        "- Perform some EDA and Feature Engineering\n",
        "- Given resident profile, predict if salary is great than or equal to $50,000 per year\n",
        "- Test different models and validate on test set"
      ]
    },
    {
      "cell_type": "code",
      "metadata": {
        "id": "XVW8D1DcT8n3",
        "colab_type": "code",
        "colab": {}
      },
      "source": [
        "!pip install wget"
      ],
      "execution_count": null,
      "outputs": []
    },
    {
      "cell_type": "code",
      "metadata": {
        "id": "5Ln5s1-7OVfj",
        "colab_type": "code",
        "colab": {}
      },
      "source": [
        "# System utils\n",
        "import os\n",
        "import zipfile\n",
        "import wget \n",
        "\n",
        "# Some classic data science stuff\n",
        "import numpy as np\n",
        "import pandas as pd\n",
        "import seaborn as sns\n",
        "import matplotlib as mpl\n",
        "import matplotlib.pyplot as plt \n",
        "%matplotlib inline \n"
      ],
      "execution_count": null,
      "outputs": []
    },
    {
      "cell_type": "code",
      "metadata": {
        "id": "BC7gUWBpQQYB",
        "colab_type": "code",
        "colab": {}
      },
      "source": [
        "!nvidia-smi"
      ],
      "execution_count": null,
      "outputs": []
    },
    {
      "cell_type": "markdown",
      "metadata": {
        "id": "9Hq-GXmVSwF7",
        "colab_type": "text"
      },
      "source": [
        "## Build datasets"
      ]
    },
    {
      "cell_type": "code",
      "metadata": {
        "id": "hX-F4BJ7S6XX",
        "colab_type": "code",
        "colab": {}
      },
      "source": [
        "wget.download(\"http://thomasdata.s3.amazonaws.com/ds/us_census_full.zip\")"
      ],
      "execution_count": null,
      "outputs": []
    },
    {
      "cell_type": "code",
      "metadata": {
        "id": "Hj_chYV_Qh33",
        "colab_type": "code",
        "colab": {}
      },
      "source": [
        "!ls -1"
      ],
      "execution_count": null,
      "outputs": []
    },
    {
      "cell_type": "code",
      "metadata": {
        "id": "PsmLt9msRGhL",
        "colab_type": "code",
        "colab": {}
      },
      "source": [
        "# Define helper to load\n",
        "local_zip =os.path.join(DATA_PATH, 'us_census_full.zip')\n",
        "\n",
        "# Unzip Train Set into temporary path\n",
        "zip_ref = zipfile.ZipFile(local_zip, 'r')\n",
        "zip_ref.extractall('/tmp')\n",
        "zip_ref.close()"
      ],
      "execution_count": null,
      "outputs": []
    },
    {
      "cell_type": "code",
      "metadata": {
        "id": "WZbPCGafRVYh",
        "colab_type": "code",
        "colab": {}
      },
      "source": [
        "!ls -1 /tmp/us_census_full/"
      ],
      "execution_count": null,
      "outputs": []
    },
    {
      "cell_type": "code",
      "metadata": {
        "id": "3h1tILn2RlvU",
        "colab_type": "code",
        "colab": {}
      },
      "source": [
        "train     = '/tmp/us_census_full/census_income_learn.csv'\n",
        "test      = '/tmp/us_census_full/census_income_test.csv'\n",
        "metadata  = '/tmp/us_census_full/census_income_metadata.txt'"
      ],
      "execution_count": null,
      "outputs": []
    },
    {
      "cell_type": "code",
      "metadata": {
        "id": "JHoJp1ItR9gw",
        "colab_type": "code",
        "colab": {}
      },
      "source": [
        "!cat $metadata"
      ],
      "execution_count": null,
      "outputs": []
    },
    {
      "cell_type": "code",
      "metadata": {
        "id": "7vtj3S3yWUOj",
        "colab_type": "code",
        "colab": {}
      },
      "source": [
        "!head -2 $train"
      ],
      "execution_count": null,
      "outputs": []
    },
    {
      "cell_type": "code",
      "metadata": {
        "id": "QGctKhCXWl0w",
        "colab_type": "code",
        "colab": {}
      },
      "source": [
        "!head -2 $test"
      ],
      "execution_count": null,
      "outputs": []
    },
    {
      "cell_type": "code",
      "metadata": {
        "id": "OAYWLzTfR-WP",
        "colab_type": "code",
        "colab": {}
      },
      "source": [
        "train_df  = pd.read_csv(train, header=None)\n",
        "test_df   = pd.read_csv(test, header=None) "
      ],
      "execution_count": null,
      "outputs": []
    },
    {
      "cell_type": "code",
      "metadata": {
        "id": "7qoFDP9VVpVf",
        "colab_type": "code",
        "colab": {}
      },
      "source": [
        "train_df.head(5)"
      ],
      "execution_count": null,
      "outputs": []
    },
    {
      "cell_type": "markdown",
      "metadata": {
        "id": "_TZZbcsDXId7",
        "colab_type": "text"
      },
      "source": [
        "## Small trick from metadata for columns names\n",
        " This will help us a lot during EDA"
      ]
    },
    {
      "cell_type": "code",
      "metadata": {
        "id": "DtRR2HCoWLhk",
        "colab_type": "code",
        "colab": {}
      },
      "source": [
        "column_names = !tail -43 $metadata"
      ],
      "execution_count": null,
      "outputs": []
    },
    {
      "cell_type": "code",
      "metadata": {
        "id": "dzCgdwxDXQOl",
        "colab_type": "code",
        "colab": {}
      },
      "source": [
        "cols = []\n",
        "for col in column_names[1:]:\n",
        "  cols.append(col.split(\":\")[0].replace(\" \",\"_\"))"
      ],
      "execution_count": null,
      "outputs": []
    },
    {
      "cell_type": "code",
      "metadata": {
        "id": "0n1fyUGnXjTv",
        "colab_type": "code",
        "colab": {}
      },
      "source": [
        ""
      ],
      "execution_count": null,
      "outputs": []
    }
  ]
}